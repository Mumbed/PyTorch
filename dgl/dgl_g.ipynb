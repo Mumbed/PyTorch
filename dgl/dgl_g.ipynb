{
 "cells": [
  {
   "cell_type": "code",
   "execution_count": 3,
   "metadata": {
    "collapsed": true
   },
   "outputs": [],
   "source": [
    "import dgl\n",
    "import torch as th"
   ]
  },
  {
   "cell_type": "code",
   "execution_count": 4,
   "outputs": [],
   "source": [
    "# u,v = th.tensor([0,0,0,1]), th.tensor([1,2,3,3])\n",
    "# g = dgl.graph((u,v))"
   ],
   "metadata": {
    "collapsed": false
   }
  },
  {
   "cell_type": "code",
   "execution_count": 5,
   "outputs": [
    {
     "name": "stdout",
     "output_type": "stream",
     "text": [
      "Graph(num_nodes=4, num_edges=4,\n",
      "      ndata_schemes={}\n",
      "      edata_schemes={})\n"
     ]
    }
   ],
   "source": [
    "# print(g)"
   ],
   "metadata": {
    "collapsed": false
   }
  },
  {
   "cell_type": "code",
   "execution_count": 7,
   "outputs": [
    {
     "name": "stdout",
     "output_type": "stream",
     "text": [
      "10\n",
      "3\n"
     ]
    },
    {
     "ename": "DGLError",
     "evalue": "dgl.to_networkx only supports homogeneous graphs.",
     "output_type": "error",
     "traceback": [
      "\u001B[0;31m---------------------------------------------------------------------------\u001B[0m",
      "\u001B[0;31mDGLError\u001B[0m                                  Traceback (most recent call last)",
      "\u001B[0;32m/var/folders/0m/hjk2tg755515lw68ngg0ch940000gn/T/ipykernel_4485/1251267151.py\u001B[0m in \u001B[0;36m<module>\u001B[0;34m\u001B[0m\n\u001B[1;32m     12\u001B[0m \u001B[0mprint\u001B[0m\u001B[0;34m(\u001B[0m\u001B[0mg\u001B[0m\u001B[0;34m.\u001B[0m\u001B[0mnum_nodes\u001B[0m\u001B[0;34m(\u001B[0m\u001B[0;34m)\u001B[0m\u001B[0;34m)\u001B[0m\u001B[0;34m\u001B[0m\u001B[0;34m\u001B[0m\u001B[0m\n\u001B[1;32m     13\u001B[0m \u001B[0mprint\u001B[0m\u001B[0;34m(\u001B[0m\u001B[0mg\u001B[0m\u001B[0;34m.\u001B[0m\u001B[0mnum_nodes\u001B[0m\u001B[0;34m(\u001B[0m\u001B[0;34m'drug'\u001B[0m\u001B[0;34m)\u001B[0m\u001B[0;34m)\u001B[0m\u001B[0;34m\u001B[0m\u001B[0;34m\u001B[0m\u001B[0m\n\u001B[0;32m---> 14\u001B[0;31m \u001B[0mgx\u001B[0m \u001B[0;34m=\u001B[0m \u001B[0mdgl\u001B[0m\u001B[0;34m.\u001B[0m\u001B[0mto_networkx\u001B[0m\u001B[0;34m(\u001B[0m\u001B[0mg\u001B[0m\u001B[0;34m)\u001B[0m\u001B[0;34m\u001B[0m\u001B[0;34m\u001B[0m\u001B[0m\n\u001B[0m\u001B[1;32m     15\u001B[0m \u001B[0mgx\u001B[0m\u001B[0;34m.\u001B[0m\u001B[0mdraw_networkx\u001B[0m\u001B[0;34m(\u001B[0m\u001B[0mgx\u001B[0m\u001B[0;34m)\u001B[0m\u001B[0;34m\u001B[0m\u001B[0;34m\u001B[0m\u001B[0m\n",
      "\u001B[0;32m~/opt/anaconda3/lib/python3.9/site-packages/dgl/convert.py\u001B[0m in \u001B[0;36mto_networkx\u001B[0;34m(g, node_attrs, edge_attrs)\u001B[0m\n\u001B[1;32m   1600\u001B[0m         \u001B[0;32mraise\u001B[0m \u001B[0mDGLError\u001B[0m\u001B[0;34m(\u001B[0m\u001B[0;34m'Cannot convert a CUDA graph to networkx. Call g.cpu() first.'\u001B[0m\u001B[0;34m)\u001B[0m\u001B[0;34m\u001B[0m\u001B[0;34m\u001B[0m\u001B[0m\n\u001B[1;32m   1601\u001B[0m     \u001B[0;32mif\u001B[0m \u001B[0;32mnot\u001B[0m \u001B[0mg\u001B[0m\u001B[0;34m.\u001B[0m\u001B[0mis_homogeneous\u001B[0m\u001B[0;34m:\u001B[0m\u001B[0;34m\u001B[0m\u001B[0;34m\u001B[0m\u001B[0m\n\u001B[0;32m-> 1602\u001B[0;31m         \u001B[0;32mraise\u001B[0m \u001B[0mDGLError\u001B[0m\u001B[0;34m(\u001B[0m\u001B[0;34m'dgl.to_networkx only supports homogeneous graphs.'\u001B[0m\u001B[0;34m)\u001B[0m\u001B[0;34m\u001B[0m\u001B[0;34m\u001B[0m\u001B[0m\n\u001B[0m\u001B[1;32m   1603\u001B[0m     \u001B[0msrc\u001B[0m\u001B[0;34m,\u001B[0m \u001B[0mdst\u001B[0m \u001B[0;34m=\u001B[0m \u001B[0mg\u001B[0m\u001B[0;34m.\u001B[0m\u001B[0medges\u001B[0m\u001B[0;34m(\u001B[0m\u001B[0;34m)\u001B[0m\u001B[0;34m\u001B[0m\u001B[0;34m\u001B[0m\u001B[0m\n\u001B[1;32m   1604\u001B[0m     \u001B[0msrc\u001B[0m \u001B[0;34m=\u001B[0m \u001B[0mF\u001B[0m\u001B[0;34m.\u001B[0m\u001B[0masnumpy\u001B[0m\u001B[0;34m(\u001B[0m\u001B[0msrc\u001B[0m\u001B[0;34m)\u001B[0m\u001B[0;34m\u001B[0m\u001B[0;34m\u001B[0m\u001B[0m\n",
      "\u001B[0;31mDGLError\u001B[0m: dgl.to_networkx only supports homogeneous graphs."
     ]
    }
   ],
   "source": [
    "graph_data = {\n",
    "    ('drug', 'interacts', 'drug'): (th.tensor([0,1]), th.tensor([1,2])),\n",
    "    ('drug', 'interacts', 'gene'): (th.tensor([0,1]), th.tensor([2,3])),\n",
    "    ('drug', 'treats', 'disease'): (th.tensor([1]), th.tensor([2])),\n",
    "}\n",
    "g = dgl.heterograph(graph_data)\n",
    "#print(g.ntypes)\n",
    "#print(g.etypes)\n",
    "\n",
    "#print(g.canonical_etypes)\n",
    "\n",
    "print(g.num_nodes())\n",
    "print(g.num_nodes('drug'))\n"
   ],
   "metadata": {
    "collapsed": false
   }
  },
  {
   "cell_type": "code",
   "execution_count": 1,
   "outputs": [
    {
     "ename": "NameError",
     "evalue": "name 'g' is not defined",
     "output_type": "error",
     "traceback": [
      "\u001B[0;31m---------------------------------------------------------------------------\u001B[0m",
      "\u001B[0;31mNameError\u001B[0m                                 Traceback (most recent call last)",
      "\u001B[0;32m/var/folders/0m/hjk2tg755515lw68ngg0ch940000gn/T/ipykernel_41387/1622647472.py\u001B[0m in \u001B[0;36m<module>\u001B[0;34m\u001B[0m\n\u001B[0;32m----> 1\u001B[0;31m \u001B[0mg\u001B[0m\u001B[0;34m.\u001B[0m\u001B[0mshape\u001B[0m\u001B[0;34m(\u001B[0m\u001B[0;34m)\u001B[0m\u001B[0;34m\u001B[0m\u001B[0;34m\u001B[0m\u001B[0m\n\u001B[0m",
      "\u001B[0;31mNameError\u001B[0m: name 'g' is not defined"
     ]
    }
   ],
   "source": [
    "g.shape()"
   ],
   "metadata": {
    "collapsed": false
   }
  },
  {
   "cell_type": "code",
   "execution_count": null,
   "outputs": [],
   "source": [],
   "metadata": {
    "collapsed": false
   }
  }
 ],
 "metadata": {
  "kernelspec": {
   "display_name": "Python 3",
   "language": "python",
   "name": "python3"
  },
  "language_info": {
   "codemirror_mode": {
    "name": "ipython",
    "version": 2
   },
   "file_extension": ".py",
   "mimetype": "text/x-python",
   "name": "python",
   "nbconvert_exporter": "python",
   "pygments_lexer": "ipython2",
   "version": "2.7.6"
  }
 },
 "nbformat": 4,
 "nbformat_minor": 0
}
