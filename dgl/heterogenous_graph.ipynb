{
 "cells": [
  {
   "cell_type": "code",
   "execution_count": 1,
   "metadata": {
    "collapsed": true
   },
   "outputs": [],
   "source": [
    "import dgl\n",
    "import torch\n",
    "import numpy as np"
   ]
  },
  {
   "cell_type": "code",
   "execution_count": 2,
   "outputs": [
    {
     "name": "stdout",
     "output_type": "stream",
     "text": [
      "Graph(num_nodes={'disease': 3, 'drug': 3, 'gene': 4},\n",
      "      num_edges={('drug', 'interacts', 'drug'): 2, ('drug', 'interacts', 'gene'): 2, ('drug', 'treats', 'disease'): 1},\n",
      "      metagraph=[('drug', 'drug', 'interacts'), ('drug', 'gene', 'interacts'), ('drug', 'disease', 'treats')])\n"
     ]
    }
   ],
   "source": [
    "heterograph_data = {\n",
    "   ('drug', 'interacts', 'drug'): (torch.tensor([0, 1]), torch.tensor([1, 2])),\n",
    "   ('drug', 'interacts', 'gene'): (torch.tensor([0, 1]), torch.tensor([2, 3])),\n",
    "   ('drug', 'treats', 'disease'): (torch.tensor([1]), torch.tensor([2]))\n",
    "}\n",
    "hetero_g = dgl.heterograph(heterograph_data)\n",
    "print(hetero_g)"
   ],
   "metadata": {
    "collapsed": false
   }
  },
  {
   "cell_type": "code",
   "execution_count": 3,
   "outputs": [
    {
     "name": "stdout",
     "output_type": "stream",
     "text": [
      "Graph(num_nodes={'drug': 3, 'gene': 4},\n",
      "      num_edges={('drug', 'interacts', 'gene'): 2},\n",
      "      metagraph=[('drug', 'gene', 'interacts')])\n"
     ]
    }
   ],
   "source": [
    "#subgraph\n",
    "sub_g = dgl.edge_type_subgraph(hetero_g, [('drug', 'interacts', 'gene')])\n",
    "print(sub_g)"
   ],
   "metadata": {
    "collapsed": false
   }
  },
  {
   "cell_type": "code",
   "execution_count": 4,
   "outputs": [
    {
     "name": "stdout",
     "output_type": "stream",
     "text": [
      "Graph(num_nodes={'drug': 3, 'gene': 4},\n",
      "      num_edges={('drug', 'interacts', 'gene'): 2},\n",
      "      metagraph=[('drug', 'gene', 'interacts')])\n"
     ]
    }
   ],
   "source": [
    "# 피처 할당하기\n",
    "sub_g.srcdata['src_h'] = torch.randn(3,3)\n",
    "sub_g.dstdata['dst_h'] = torch.randn(4,2)\n",
    "print(sub_g)"
   ],
   "metadata": {
    "collapsed": false
   }
  },
  {
   "cell_type": "code",
   "execution_count": 5,
   "outputs": [
    {
     "data": {
      "text/plain": "{'src_h': tensor([[ 0.9654, -1.6468, -1.3345],\n        [-1.3180,  1.4726, -0.9873],\n        [-0.4817,  0.5759, -1.9046]])}"
     },
     "execution_count": 5,
     "metadata": {},
     "output_type": "execute_result"
    }
   ],
   "source": [
    "sub_g.srcdata"
   ],
   "metadata": {
    "collapsed": false
   }
  },
  {
   "cell_type": "code",
   "execution_count": 6,
   "outputs": [
    {
     "data": {
      "text/plain": "{'dst_h': tensor([[ 1.1606, -0.0969],\n        [-0.3349,  0.4332],\n        [-1.3069, -0.4326],\n        [ 1.0956,  0.5278]])}"
     },
     "execution_count": 6,
     "metadata": {},
     "output_type": "execute_result"
    }
   ],
   "source": [
    "sub_g.dstdata"
   ],
   "metadata": {
    "collapsed": false
   }
  },
  {
   "cell_type": "code",
   "execution_count": null,
   "outputs": [],
   "source": [],
   "metadata": {
    "collapsed": false
   }
  }
 ],
 "metadata": {
  "kernelspec": {
   "display_name": "Python 3",
   "language": "python",
   "name": "python3"
  },
  "language_info": {
   "codemirror_mode": {
    "name": "ipython",
    "version": 2
   },
   "file_extension": ".py",
   "mimetype": "text/x-python",
   "name": "python",
   "nbconvert_exporter": "python",
   "pygments_lexer": "ipython2",
   "version": "2.7.6"
  }
 },
 "nbformat": 4,
 "nbformat_minor": 0
}
