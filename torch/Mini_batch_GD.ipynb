{
 "cells": [
  {
   "cell_type": "code",
   "execution_count": 4,
   "metadata": {
    "collapsed": true
   },
   "outputs": [],
   "source": [
    "import torch\n",
    "import torch.nn as nn\n",
    "import torch.nn.functional as F"
   ]
  },
  {
   "cell_type": "code",
   "execution_count": 5,
   "outputs": [],
   "source": [
    "from torch.utils.data import TensorDataset # 텐서데이터셋\n",
    "from torch.utils.data import DataLoader # 데이터로더"
   ],
   "metadata": {
    "collapsed": false
   }
  },
  {
   "cell_type": "code",
   "execution_count": 6,
   "outputs": [],
   "source": [
    "x_train  =  torch.FloatTensor([[73,  80,  75],\n",
    "                               [93,  88,  93],\n",
    "                               [89,  91,  90],\n",
    "                               [96,  98,  100],\n",
    "                               [73,  66,  70]])\n",
    "y_train  =  torch.FloatTensor([[152],  [185],  [180],  [196],  [142]])"
   ],
   "metadata": {
    "collapsed": false
   }
  },
  {
   "cell_type": "code",
   "execution_count": 7,
   "outputs": [],
   "source": [
    "dataset = TensorDataset(x_train, y_train)"
   ],
   "metadata": {
    "collapsed": false
   }
  },
  {
   "cell_type": "code",
   "execution_count": 8,
   "outputs": [],
   "source": [
    "dataloader = DataLoader(dataset, batch_size=2, shuffle=True)"
   ],
   "metadata": {
    "collapsed": false
   }
  },
  {
   "cell_type": "code",
   "execution_count": 9,
   "outputs": [],
   "source": [
    "model = nn.Linear(3,1)\n",
    "optimizer = torch.optim.SGD(model.parameters(), lr=1e-5)"
   ],
   "metadata": {
    "collapsed": false
   }
  },
  {
   "cell_type": "code",
   "execution_count": 12,
   "outputs": [
    {
     "name": "stdout",
     "output_type": "stream",
     "text": [
      "Epoch    0/100 Batch 1/3 Cost: 3.551033\n",
      "Epoch    0/100 Batch 2/3 Cost: 6.553150\n",
      "Epoch    0/100 Batch 3/3 Cost: 2.013969\n",
      "Epoch    1/100 Batch 1/3 Cost: 4.928335\n",
      "Epoch    1/100 Batch 2/3 Cost: 5.213518\n",
      "Epoch    1/100 Batch 3/3 Cost: 2.557725\n",
      "Epoch    2/100 Batch 1/3 Cost: 1.540835\n",
      "Epoch    2/100 Batch 2/3 Cost: 5.827772\n",
      "Epoch    2/100 Batch 3/3 Cost: 9.342679\n",
      "Epoch    3/100 Batch 1/3 Cost: 6.723304\n",
      "Epoch    3/100 Batch 2/3 Cost: 3.548061\n",
      "Epoch    3/100 Batch 3/3 Cost: 6.927444\n",
      "Epoch    4/100 Batch 1/3 Cost: 6.858224\n",
      "Epoch    4/100 Batch 2/3 Cost: 7.500780\n",
      "Epoch    4/100 Batch 3/3 Cost: 5.901009\n",
      "Epoch    5/100 Batch 1/3 Cost: 1.068322\n",
      "Epoch    5/100 Batch 2/3 Cost: 5.946906\n",
      "Epoch    5/100 Batch 3/3 Cost: 9.199951\n",
      "Epoch    6/100 Batch 1/3 Cost: 6.694052\n",
      "Epoch    6/100 Batch 2/3 Cost: 3.549496\n",
      "Epoch    6/100 Batch 3/3 Cost: 2.451144\n",
      "Epoch    7/100 Batch 1/3 Cost: 7.938608\n",
      "Epoch    7/100 Batch 2/3 Cost: 7.379027\n",
      "Epoch    7/100 Batch 3/3 Cost: 0.458063\n",
      "Epoch    8/100 Batch 1/3 Cost: 9.741514\n",
      "Epoch    8/100 Batch 2/3 Cost: 5.582637\n",
      "Epoch    8/100 Batch 3/3 Cost: 1.231830\n",
      "Epoch    9/100 Batch 1/3 Cost: 7.157454\n",
      "Epoch    9/100 Batch 2/3 Cost: 4.451306\n",
      "Epoch    9/100 Batch 3/3 Cost: 0.842751\n",
      "Epoch   10/100 Batch 1/3 Cost: 5.223795\n",
      "Epoch   10/100 Batch 2/3 Cost: 5.175265\n",
      "Epoch   10/100 Batch 3/3 Cost: 2.340896\n",
      "Epoch   11/100 Batch 1/3 Cost: 6.861272\n",
      "Epoch   11/100 Batch 2/3 Cost: 0.718233\n",
      "Epoch   11/100 Batch 3/3 Cost: 9.600107\n",
      "Epoch   12/100 Batch 1/3 Cost: 6.548545\n",
      "Epoch   12/100 Batch 2/3 Cost: 3.502052\n",
      "Epoch   12/100 Batch 3/3 Cost: 2.319328\n",
      "Epoch   13/100 Batch 1/3 Cost: 3.594391\n",
      "Epoch   13/100 Batch 2/3 Cost: 6.349089\n",
      "Epoch   13/100 Batch 3/3 Cost: 2.634281\n",
      "Epoch   14/100 Batch 1/3 Cost: 4.287776\n",
      "Epoch   14/100 Batch 2/3 Cost: 4.893998\n",
      "Epoch   14/100 Batch 3/3 Cost: 5.722897\n",
      "Epoch   15/100 Batch 1/3 Cost: 6.980060\n",
      "Epoch   15/100 Batch 2/3 Cost: 0.572145\n",
      "Epoch   15/100 Batch 3/3 Cost: 9.820251\n",
      "Epoch   16/100 Batch 1/3 Cost: 5.546187\n",
      "Epoch   16/100 Batch 2/3 Cost: 4.060431\n",
      "Epoch   16/100 Batch 3/3 Cost: 7.509219\n",
      "Epoch   17/100 Batch 1/3 Cost: 4.187770\n",
      "Epoch   17/100 Batch 2/3 Cost: 3.660655\n",
      "Epoch   17/100 Batch 3/3 Cost: 7.728648\n",
      "Epoch   18/100 Batch 1/3 Cost: 5.502110\n",
      "Epoch   18/100 Batch 2/3 Cost: 4.527100\n",
      "Epoch   18/100 Batch 3/3 Cost: 2.582383\n",
      "Epoch   19/100 Batch 1/3 Cost: 5.314969\n",
      "Epoch   19/100 Batch 2/3 Cost: 3.230797\n",
      "Epoch   19/100 Batch 3/3 Cost: 9.923519\n",
      "Epoch   20/100 Batch 1/3 Cost: 2.738248\n",
      "Epoch   20/100 Batch 2/3 Cost: 6.381411\n",
      "Epoch   20/100 Batch 3/3 Cost: 3.733181\n",
      "Epoch   21/100 Batch 1/3 Cost: 1.812083\n",
      "Epoch   21/100 Batch 2/3 Cost: 6.253139\n",
      "Epoch   21/100 Batch 3/3 Cost: 7.273596\n",
      "Epoch   22/100 Batch 1/3 Cost: 2.849613\n",
      "Epoch   22/100 Batch 2/3 Cost: 6.352040\n",
      "Epoch   22/100 Batch 3/3 Cost: 9.336057\n",
      "Epoch   23/100 Batch 1/3 Cost: 5.214394\n",
      "Epoch   23/100 Batch 2/3 Cost: 3.955787\n",
      "Epoch   23/100 Batch 3/3 Cost: 4.048056\n",
      "Epoch   24/100 Batch 1/3 Cost: 4.135961\n",
      "Epoch   24/100 Batch 2/3 Cost: 2.933579\n",
      "Epoch   24/100 Batch 3/3 Cost: 10.919044\n",
      "Epoch   25/100 Batch 1/3 Cost: 5.486748\n",
      "Epoch   25/100 Batch 2/3 Cost: 3.925914\n",
      "Epoch   25/100 Batch 3/3 Cost: 7.259035\n",
      "Epoch   26/100 Batch 1/3 Cost: 3.004514\n",
      "Epoch   26/100 Batch 2/3 Cost: 6.679960\n",
      "Epoch   26/100 Batch 3/3 Cost: 9.045559\n",
      "Epoch   27/100 Batch 1/3 Cost: 4.769838\n",
      "Epoch   27/100 Batch 2/3 Cost: 2.700036\n",
      "Epoch   27/100 Batch 3/3 Cost: 7.362756\n",
      "Epoch   28/100 Batch 1/3 Cost: 5.435103\n",
      "Epoch   28/100 Batch 2/3 Cost: 4.470537\n",
      "Epoch   28/100 Batch 3/3 Cost: 2.528040\n",
      "Epoch   29/100 Batch 1/3 Cost: 1.739578\n",
      "Epoch   29/100 Batch 2/3 Cost: 6.679668\n",
      "Epoch   29/100 Batch 3/3 Cost: 7.106500\n",
      "Epoch   30/100 Batch 1/3 Cost: 6.478895\n",
      "Epoch   30/100 Batch 2/3 Cost: 2.697054\n",
      "Epoch   30/100 Batch 3/3 Cost: 4.217854\n",
      "Epoch   31/100 Batch 1/3 Cost: 1.911951\n",
      "Epoch   31/100 Batch 2/3 Cost: 11.002586\n",
      "Epoch   31/100 Batch 3/3 Cost: 3.826747\n",
      "Epoch   32/100 Batch 1/3 Cost: 2.180804\n",
      "Epoch   32/100 Batch 2/3 Cost: 11.815128\n",
      "Epoch   32/100 Batch 3/3 Cost: 2.090384\n",
      "Epoch   33/100 Batch 1/3 Cost: 7.816116\n",
      "Epoch   33/100 Batch 2/3 Cost: 4.502332\n",
      "Epoch   33/100 Batch 3/3 Cost: 4.097326\n",
      "Epoch   34/100 Batch 1/3 Cost: 6.232541\n",
      "Epoch   34/100 Batch 2/3 Cost: 5.163354\n",
      "Epoch   34/100 Batch 3/3 Cost: 1.831013\n",
      "Epoch   35/100 Batch 1/3 Cost: 5.692638\n",
      "Epoch   35/100 Batch 2/3 Cost: 3.444020\n",
      "Epoch   35/100 Batch 3/3 Cost: 5.410862\n",
      "Epoch   36/100 Batch 1/3 Cost: 6.724095\n",
      "Epoch   36/100 Batch 2/3 Cost: 3.821951\n",
      "Epoch   36/100 Batch 3/3 Cost: 2.288386\n",
      "Epoch   37/100 Batch 1/3 Cost: 0.334787\n",
      "Epoch   37/100 Batch 2/3 Cost: 6.884590\n",
      "Epoch   37/100 Batch 3/3 Cost: 7.900117\n",
      "Epoch   38/100 Batch 1/3 Cost: 3.542887\n",
      "Epoch   38/100 Batch 2/3 Cost: 5.030476\n",
      "Epoch   38/100 Batch 3/3 Cost: 9.033540\n",
      "Epoch   39/100 Batch 1/3 Cost: 2.697414\n",
      "Epoch   39/100 Batch 2/3 Cost: 5.881423\n",
      "Epoch   39/100 Batch 3/3 Cost: 9.246105\n",
      "Epoch   40/100 Batch 1/3 Cost: 5.442938\n",
      "Epoch   40/100 Batch 2/3 Cost: 3.892057\n",
      "Epoch   40/100 Batch 3/3 Cost: 7.178762\n",
      "Epoch   41/100 Batch 1/3 Cost: 4.040653\n",
      "Epoch   41/100 Batch 2/3 Cost: 5.124192\n",
      "Epoch   41/100 Batch 3/3 Cost: 4.111360\n",
      "Epoch   42/100 Batch 1/3 Cost: 2.241623\n",
      "Epoch   42/100 Batch 2/3 Cost: 5.361007\n",
      "Epoch   42/100 Batch 3/3 Cost: 8.105236\n",
      "Epoch   43/100 Batch 1/3 Cost: 6.164469\n",
      "Epoch   43/100 Batch 2/3 Cost: 3.748871\n",
      "Epoch   43/100 Batch 3/3 Cost: 6.951803\n",
      "Epoch   44/100 Batch 1/3 Cost: 7.055288\n",
      "Epoch   44/100 Batch 2/3 Cost: 3.622412\n",
      "Epoch   44/100 Batch 3/3 Cost: 6.728410\n",
      "Epoch   45/100 Batch 1/3 Cost: 4.935561\n",
      "Epoch   45/100 Batch 2/3 Cost: 5.079504\n",
      "Epoch   45/100 Batch 3/3 Cost: 2.600511\n",
      "Epoch   46/100 Batch 1/3 Cost: 2.569416\n",
      "Epoch   46/100 Batch 2/3 Cost: 10.957335\n",
      "Epoch   46/100 Batch 3/3 Cost: 2.242362\n",
      "Epoch   47/100 Batch 1/3 Cost: 0.832545\n",
      "Epoch   47/100 Batch 2/3 Cost: 6.539120\n",
      "Epoch   47/100 Batch 3/3 Cost: 7.157928\n",
      "Epoch   48/100 Batch 1/3 Cost: 3.881074\n",
      "Epoch   48/100 Batch 2/3 Cost: 4.962257\n",
      "Epoch   48/100 Batch 3/3 Cost: 3.858812\n",
      "Epoch   49/100 Batch 1/3 Cost: 4.686632\n",
      "Epoch   49/100 Batch 2/3 Cost: 3.389728\n",
      "Epoch   49/100 Batch 3/3 Cost: 9.084242\n",
      "Epoch   50/100 Batch 1/3 Cost: 4.577486\n",
      "Epoch   50/100 Batch 2/3 Cost: 2.607165\n",
      "Epoch   50/100 Batch 3/3 Cost: 6.915481\n",
      "Epoch   51/100 Batch 1/3 Cost: 5.229921\n",
      "Epoch   51/100 Batch 2/3 Cost: 1.049834\n",
      "Epoch   51/100 Batch 3/3 Cost: 10.395252\n",
      "Epoch   52/100 Batch 1/3 Cost: 2.597980\n",
      "Epoch   52/100 Batch 2/3 Cost: 5.290299\n",
      "Epoch   52/100 Batch 3/3 Cost: 9.333726\n",
      "Epoch   53/100 Batch 1/3 Cost: 3.780255\n",
      "Epoch   53/100 Batch 2/3 Cost: 3.351782\n",
      "Epoch   53/100 Batch 3/3 Cost: 6.674689\n",
      "Epoch   54/100 Batch 1/3 Cost: 1.492733\n",
      "Epoch   54/100 Batch 2/3 Cost: 11.096972\n",
      "Epoch   54/100 Batch 3/3 Cost: 3.527652\n",
      "Epoch   55/100 Batch 1/3 Cost: 4.047562\n",
      "Epoch   55/100 Batch 2/3 Cost: 2.661773\n",
      "Epoch   55/100 Batch 3/3 Cost: 10.433267\n",
      "Epoch   56/100 Batch 1/3 Cost: 5.141032\n",
      "Epoch   56/100 Batch 2/3 Cost: 4.762883\n",
      "Epoch   56/100 Batch 3/3 Cost: 5.006147\n",
      "Epoch   57/100 Batch 1/3 Cost: 6.903878\n",
      "Epoch   57/100 Batch 2/3 Cost: 6.512812\n",
      "Epoch   57/100 Batch 3/3 Cost: 5.759604\n",
      "Epoch   58/100 Batch 1/3 Cost: 2.235923\n",
      "Epoch   58/100 Batch 2/3 Cost: 4.728538\n",
      "Epoch   58/100 Batch 3/3 Cost: 8.005024\n",
      "Epoch   59/100 Batch 1/3 Cost: 3.809510\n",
      "Epoch   59/100 Batch 2/3 Cost: 4.846300\n",
      "Epoch   59/100 Batch 3/3 Cost: 3.804333\n",
      "Epoch   60/100 Batch 1/3 Cost: 4.603404\n",
      "Epoch   60/100 Batch 2/3 Cost: 4.683726\n",
      "Epoch   60/100 Batch 3/3 Cost: 2.348373\n",
      "Epoch   61/100 Batch 1/3 Cost: 0.347110\n",
      "Epoch   61/100 Batch 2/3 Cost: 6.582960\n",
      "Epoch   61/100 Batch 3/3 Cost: 7.577278\n",
      "Epoch   62/100 Batch 1/3 Cost: 4.192859\n",
      "Epoch   62/100 Batch 2/3 Cost: 5.894559\n",
      "Epoch   62/100 Batch 3/3 Cost: 5.208628\n",
      "Epoch   63/100 Batch 1/3 Cost: 6.701804\n",
      "Epoch   63/100 Batch 2/3 Cost: 6.515043\n",
      "Epoch   63/100 Batch 3/3 Cost: 5.678232\n",
      "Epoch   64/100 Batch 1/3 Cost: 3.609313\n",
      "Epoch   64/100 Batch 2/3 Cost: 3.903447\n",
      "Epoch   64/100 Batch 3/3 Cost: 5.636929\n",
      "Epoch   65/100 Batch 1/3 Cost: 5.325380\n",
      "Epoch   65/100 Batch 2/3 Cost: 2.038417\n",
      "Epoch   65/100 Batch 3/3 Cost: 9.181817\n",
      "Epoch   66/100 Batch 1/3 Cost: 3.318604\n",
      "Epoch   66/100 Batch 2/3 Cost: 3.695886\n",
      "Epoch   66/100 Batch 3/3 Cost: 6.642952\n",
      "Epoch   67/100 Batch 1/3 Cost: 1.497266\n",
      "Epoch   67/100 Batch 2/3 Cost: 5.110614\n",
      "Epoch   67/100 Batch 3/3 Cost: 8.275016\n",
      "Epoch   68/100 Batch 1/3 Cost: 6.292740\n",
      "Epoch   68/100 Batch 2/3 Cost: 3.330468\n",
      "Epoch   68/100 Batch 3/3 Cost: 6.449783\n",
      "Epoch   69/100 Batch 1/3 Cost: 3.727383\n",
      "Epoch   69/100 Batch 2/3 Cost: 5.329974\n",
      "Epoch   69/100 Batch 3/3 Cost: 8.201089\n",
      "Epoch   70/100 Batch 1/3 Cost: 3.718820\n",
      "Epoch   70/100 Batch 2/3 Cost: 3.315533\n",
      "Epoch   70/100 Batch 3/3 Cost: 6.584013\n",
      "Epoch   71/100 Batch 1/3 Cost: 4.684163\n",
      "Epoch   71/100 Batch 2/3 Cost: 3.073435\n",
      "Epoch   71/100 Batch 3/3 Cost: 8.952364\n",
      "Epoch   72/100 Batch 1/3 Cost: 2.546327\n",
      "Epoch   72/100 Batch 2/3 Cost: 5.408365\n",
      "Epoch   72/100 Batch 3/3 Cost: 8.809400\n",
      "Epoch   73/100 Batch 1/3 Cost: 2.547398\n",
      "Epoch   73/100 Batch 2/3 Cost: 5.427154\n",
      "Epoch   73/100 Batch 3/3 Cost: 8.773116\n",
      "Epoch   74/100 Batch 1/3 Cost: 4.414459\n",
      "Epoch   74/100 Batch 2/3 Cost: 4.594809\n",
      "Epoch   74/100 Batch 3/3 Cost: 2.050513\n",
      "Epoch   75/100 Batch 1/3 Cost: 3.716222\n",
      "Epoch   75/100 Batch 2/3 Cost: 5.645026\n",
      "Epoch   75/100 Batch 3/3 Cost: 1.099784\n",
      "Epoch   76/100 Batch 1/3 Cost: 7.982948\n",
      "Epoch   76/100 Batch 2/3 Cost: 6.032618\n",
      "Epoch   76/100 Batch 3/3 Cost: 0.346459\n",
      "Epoch   77/100 Batch 1/3 Cost: 8.891345\n",
      "Epoch   77/100 Batch 2/3 Cost: 5.551223\n",
      "Epoch   77/100 Batch 3/3 Cost: 0.270151\n",
      "Epoch   78/100 Batch 1/3 Cost: 5.223285\n",
      "Epoch   78/100 Batch 2/3 Cost: 3.182893\n",
      "Epoch   78/100 Batch 3/3 Cost: 4.942371\n",
      "Epoch   79/100 Batch 1/3 Cost: 4.296564\n",
      "Epoch   79/100 Batch 2/3 Cost: 5.631890\n",
      "Epoch   79/100 Batch 3/3 Cost: 2.046931\n",
      "Epoch   80/100 Batch 1/3 Cost: 1.170764\n",
      "Epoch   80/100 Batch 2/3 Cost: 5.941991\n",
      "Epoch   80/100 Batch 3/3 Cost: 7.065557\n",
      "Epoch   81/100 Batch 1/3 Cost: 5.817734\n",
      "Epoch   81/100 Batch 2/3 Cost: 3.235053\n",
      "Epoch   81/100 Batch 3/3 Cost: 2.269819\n",
      "Epoch   82/100 Batch 1/3 Cost: 7.047056\n",
      "Epoch   82/100 Batch 2/3 Cost: 6.461643\n",
      "Epoch   82/100 Batch 3/3 Cost: 0.430584\n",
      "Epoch   83/100 Batch 1/3 Cost: 5.097640\n",
      "Epoch   83/100 Batch 2/3 Cost: 2.020406\n",
      "Epoch   83/100 Batch 3/3 Cost: 8.833692\n",
      "Epoch   84/100 Batch 1/3 Cost: 4.574772\n",
      "Epoch   84/100 Batch 2/3 Cost: 4.289848\n",
      "Epoch   84/100 Batch 3/3 Cost: 2.074310\n",
      "Epoch   85/100 Batch 1/3 Cost: 7.133099\n",
      "Epoch   85/100 Batch 2/3 Cost: 6.360185\n",
      "Epoch   85/100 Batch 3/3 Cost: 0.417173\n",
      "Epoch   86/100 Batch 1/3 Cost: 8.656520\n",
      "Epoch   86/100 Batch 2/3 Cost: 4.788754\n",
      "Epoch   86/100 Batch 3/3 Cost: 1.160150\n",
      "Epoch   87/100 Batch 1/3 Cost: 1.063689\n",
      "Epoch   87/100 Batch 2/3 Cost: 6.511653\n",
      "Epoch   87/100 Batch 3/3 Cost: 6.949309\n",
      "Epoch   88/100 Batch 1/3 Cost: 2.571626\n",
      "Epoch   88/100 Batch 2/3 Cost: 5.569245\n",
      "Epoch   88/100 Batch 3/3 Cost: 8.395015\n",
      "Epoch   89/100 Batch 1/3 Cost: 5.651461\n",
      "Epoch   89/100 Batch 2/3 Cost: 3.104054\n",
      "Epoch   89/100 Batch 3/3 Cost: 6.192531\n",
      "Epoch   90/100 Batch 1/3 Cost: 5.782941\n",
      "Epoch   90/100 Batch 2/3 Cost: 3.226894\n",
      "Epoch   90/100 Batch 3/3 Cost: 2.329005\n",
      "Epoch   91/100 Batch 1/3 Cost: 0.841874\n",
      "Epoch   91/100 Batch 2/3 Cost: 9.126466\n",
      "Epoch   91/100 Batch 3/3 Cost: 6.498858\n",
      "Epoch   92/100 Batch 1/3 Cost: 4.461944\n",
      "Epoch   92/100 Batch 2/3 Cost: 4.423795\n",
      "Epoch   92/100 Batch 3/3 Cost: 2.230222\n",
      "Epoch   93/100 Batch 1/3 Cost: 4.787446\n",
      "Epoch   93/100 Batch 2/3 Cost: 3.386263\n",
      "Epoch   93/100 Batch 3/3 Cost: 4.665022\n",
      "Epoch   94/100 Batch 1/3 Cost: 1.001449\n",
      "Epoch   94/100 Batch 2/3 Cost: 5.294438\n",
      "Epoch   94/100 Batch 3/3 Cost: 8.228378\n",
      "Epoch   95/100 Batch 1/3 Cost: 3.238701\n",
      "Epoch   95/100 Batch 2/3 Cost: 4.360702\n",
      "Epoch   95/100 Batch 3/3 Cost: 8.274753\n",
      "Epoch   96/100 Batch 1/3 Cost: 3.082025\n",
      "Epoch   96/100 Batch 2/3 Cost: 7.198500\n",
      "Epoch   96/100 Batch 3/3 Cost: 4.487007\n",
      "Epoch   97/100 Batch 1/3 Cost: 4.301015\n",
      "Epoch   97/100 Batch 2/3 Cost: 2.807143\n",
      "Epoch   97/100 Batch 3/3 Cost: 10.296209\n",
      "Epoch   98/100 Batch 1/3 Cost: 3.778407\n",
      "Epoch   98/100 Batch 2/3 Cost: 3.811263\n",
      "Epoch   98/100 Batch 3/3 Cost: 6.831233\n",
      "Epoch   99/100 Batch 1/3 Cost: 2.408154\n",
      "Epoch   99/100 Batch 2/3 Cost: 9.229898\n",
      "Epoch   99/100 Batch 3/3 Cost: 2.491008\n",
      "Epoch  100/100 Batch 1/3 Cost: 8.301113\n",
      "Epoch  100/100 Batch 2/3 Cost: 5.462491\n",
      "Epoch  100/100 Batch 3/3 Cost: 0.287897\n"
     ]
    }
   ],
   "source": [
    "nb_epochs = 100\n",
    "for epoch in range(nb_epochs + 1):\n",
    "  for batch_idx, samples in enumerate(dataloader):\n",
    "    # print(batch_idx)\n",
    "    # print(samples)\n",
    "    x_train, y_train = samples\n",
    "    # H(x) 계산\n",
    "    prediction = model(x_train)\n",
    "\n",
    "    # cost 계산\n",
    "    cost = F.mse_loss(prediction, y_train)\n",
    "\n",
    "    # cost로 H(x) 계산\n",
    "    optimizer.zero_grad()\n",
    "    cost.backward()\n",
    "    optimizer.step()\n",
    "\n",
    "    print('Epoch {:4d}/{} Batch {}/{} Cost: {:.6f}'.format(\n",
    "        epoch, nb_epochs, batch_idx+1, len(dataloader),\n",
    "        cost.item()\n",
    "        ))"
   ],
   "metadata": {
    "collapsed": false
   }
  },
  {
   "cell_type": "code",
   "execution_count": 13,
   "outputs": [],
   "source": [
    "new_var = torch.FloatTensor([[73,80,75]])"
   ],
   "metadata": {
    "collapsed": false
   }
  },
  {
   "cell_type": "code",
   "execution_count": 17,
   "outputs": [
    {
     "name": "stdout",
     "output_type": "stream",
     "text": [
      "훈련 후 입력이 73,80,75일 때의 예측값 :  tensor([[153.4799]], grad_fn=<AddmmBackward0>)\n"
     ]
    }
   ],
   "source": [
    "pred_y = model(new_var)\n",
    "print('훈련 후 입력이 73,80,75일 때의 예측값 : ', pred_y)"
   ],
   "metadata": {
    "collapsed": false
   }
  },
  {
   "cell_type": "code",
   "execution_count": 18,
   "outputs": [],
   "source": [
    "import torch\n",
    "import torch.nn.functional as F\n",
    "from torch.utils.data import Dataset\n",
    "from torch.utils.data import DataLoader"
   ],
   "metadata": {
    "collapsed": false
   }
  },
  {
   "cell_type": "code",
   "execution_count": 19,
   "outputs": [
    {
     "ename": "IndentationError",
     "evalue": "expected an indented block (1783202233.py, line 4)",
     "output_type": "error",
     "traceback": [
      "\u001B[0;36m  File \u001B[0;32m\"/var/folders/0m/hjk2tg755515lw68ngg0ch940000gn/T/ipykernel_87990/1783202233.py\"\u001B[0;36m, line \u001B[0;32m4\u001B[0m\n\u001B[0;31m    def __len__(self):\u001B[0m\n\u001B[0m    ^\u001B[0m\n\u001B[0;31mIndentationError\u001B[0m\u001B[0;31m:\u001B[0m expected an indented block\n"
     ]
    }
   ],
   "source": [
    "class CustomDataset(torch.utils.data.Dataset):\n",
    "  def __init__(self):\n",
    "\n",
    "  def __len__(self):\n",
    "\n",
    "  def __getitem__(self, idx):"
   ],
   "metadata": {
    "collapsed": false
   }
  },
  {
   "cell_type": "code",
   "execution_count": 20,
   "outputs": [],
   "source": [
    "# Dataset 상속\n",
    "class CustomDataset(Dataset):\n",
    "  def __init__(self):\n",
    "    self.x_data = [[73, 80, 75],\n",
    "                   [93, 88, 93],\n",
    "                   [89, 91, 90],\n",
    "                   [96, 98, 100],\n",
    "                   [73, 66, 70]]\n",
    "    self.y_data = [[152], [185], [180], [196], [142]]\n",
    "\n",
    "  # 총 데이터의 개수를 리턴\n",
    "  def __len__(self):\n",
    "    return len(self.x_data)\n",
    "\n",
    "  # 인덱스를 입력받아 그에 맵핑되는 입출력 데이터를 파이토치의 Tensor 형태로 리턴\n",
    "  def __getitem__(self, idx):\n",
    "    x = torch.FloatTensor(self.x_data[idx])\n",
    "    y = torch.FloatTensor(self.y_data[idx])\n",
    "    return x, y"
   ],
   "metadata": {
    "collapsed": false
   }
  },
  {
   "cell_type": "code",
   "execution_count": 21,
   "outputs": [],
   "source": [
    "dataset = CustomDataset()\n",
    "dataloader = DataLoader(dataset, batch_size=2, shuffle=True)"
   ],
   "metadata": {
    "collapsed": false
   }
  },
  {
   "cell_type": "code",
   "execution_count": 22,
   "outputs": [],
   "source": [
    "model = torch.nn.Linear(3,1)\n",
    "optimizer = torch.optim.SGD(model.parameters(), lr=1e-5)"
   ],
   "metadata": {
    "collapsed": false
   }
  },
  {
   "cell_type": "code",
   "execution_count": 25,
   "outputs": [
    {
     "name": "stdout",
     "output_type": "stream",
     "text": [
      "Epoch    0/20 Batch 1/3 Cost: 12.253839\n",
      "Epoch    0/20 Batch 2/3 Cost: 6.837233\n",
      "Epoch    0/20 Batch 3/3 Cost: 20.150148\n",
      "Epoch    1/20 Batch 1/3 Cost: 4.639877\n",
      "Epoch    1/20 Batch 2/3 Cost: 32.526810\n",
      "Epoch    1/20 Batch 3/3 Cost: 6.579394\n",
      "Epoch    2/20 Batch 1/3 Cost: 22.523233\n",
      "Epoch    2/20 Batch 2/3 Cost: 10.264383\n",
      "Epoch    2/20 Batch 3/3 Cost: 12.185678\n",
      "Epoch    3/20 Batch 1/3 Cost: 13.455751\n",
      "Epoch    3/20 Batch 2/3 Cost: 13.906155\n",
      "Epoch    3/20 Batch 3/3 Cost: 15.206263\n",
      "Epoch    4/20 Batch 1/3 Cost: 11.843171\n",
      "Epoch    4/20 Batch 2/3 Cost: 18.477764\n",
      "Epoch    4/20 Batch 3/3 Cost: 2.976857\n",
      "Epoch    5/20 Batch 1/3 Cost: 9.799680\n",
      "Epoch    5/20 Batch 2/3 Cost: 8.287127\n",
      "Epoch    5/20 Batch 3/3 Cost: 32.553139\n",
      "Epoch    6/20 Batch 1/3 Cost: 11.284020\n",
      "Epoch    6/20 Batch 2/3 Cost: 25.323929\n",
      "Epoch    6/20 Batch 3/3 Cost: 3.153095\n",
      "Epoch    7/20 Batch 1/3 Cost: 15.085788\n",
      "Epoch    7/20 Batch 2/3 Cost: 8.100937\n",
      "Epoch    7/20 Batch 3/3 Cost: 21.973515\n",
      "Epoch    8/20 Batch 1/3 Cost: 8.509127\n",
      "Epoch    8/20 Batch 2/3 Cost: 13.043367\n",
      "Epoch    8/20 Batch 3/3 Cost: 23.653582\n",
      "Epoch    9/20 Batch 1/3 Cost: 19.052145\n",
      "Epoch    9/20 Batch 2/3 Cost: 7.387443\n",
      "Epoch    9/20 Batch 3/3 Cost: 7.454376\n",
      "Epoch   10/20 Batch 1/3 Cost: 12.961825\n",
      "Epoch   10/20 Batch 2/3 Cost: 13.107150\n",
      "Epoch   10/20 Batch 3/3 Cost: 4.469054\n",
      "Epoch   11/20 Batch 1/3 Cost: 9.048946\n",
      "Epoch   11/20 Batch 2/3 Cost: 18.032030\n",
      "Epoch   11/20 Batch 3/3 Cost: 3.758224\n",
      "Epoch   12/20 Batch 1/3 Cost: 9.350217\n",
      "Epoch   12/20 Batch 2/3 Cost: 12.812576\n",
      "Epoch   12/20 Batch 3/3 Cost: 16.394491\n",
      "Epoch   13/20 Batch 1/3 Cost: 11.064209\n",
      "Epoch   13/20 Batch 2/3 Cost: 7.383942\n",
      "Epoch   13/20 Batch 3/3 Cost: 33.360779\n",
      "Epoch   14/20 Batch 1/3 Cost: 11.694023\n",
      "Epoch   14/20 Batch 2/3 Cost: 16.941036\n",
      "Epoch   14/20 Batch 3/3 Cost: 14.424025\n",
      "Epoch   15/20 Batch 1/3 Cost: 3.134492\n",
      "Epoch   15/20 Batch 2/3 Cost: 19.811974\n",
      "Epoch   15/20 Batch 3/3 Cost: 17.222450\n",
      "Epoch   16/20 Batch 1/3 Cost: 11.604204\n",
      "Epoch   16/20 Batch 2/3 Cost: 13.501410\n",
      "Epoch   16/20 Batch 3/3 Cost: 7.237098\n",
      "Epoch   17/20 Batch 1/3 Cost: 8.746030\n",
      "Epoch   17/20 Batch 2/3 Cost: 17.824104\n",
      "Epoch   17/20 Batch 3/3 Cost: 3.821853\n",
      "Epoch   18/20 Batch 1/3 Cost: 13.300425\n",
      "Epoch   18/20 Batch 2/3 Cost: 13.432007\n",
      "Epoch   18/20 Batch 3/3 Cost: 3.900227\n",
      "Epoch   19/20 Batch 1/3 Cost: 14.483751\n",
      "Epoch   19/20 Batch 2/3 Cost: 12.503241\n",
      "Epoch   19/20 Batch 3/3 Cost: 3.391373\n",
      "Epoch   20/20 Batch 1/3 Cost: 18.679901\n",
      "Epoch   20/20 Batch 2/3 Cost: 1.796020\n",
      "Epoch   20/20 Batch 3/3 Cost: 20.399277\n"
     ]
    }
   ],
   "source": [
    "nb_epochs = 20\n",
    "for epoch in range(nb_epochs + 1):\n",
    "  for batch_idx, samples in enumerate(dataloader):\n",
    "    # print(batch_idx)\n",
    "    # print(samples)\n",
    "    x_train, y_train = samples\n",
    "    # H(x) 계산\n",
    "    prediction = model(x_train)\n",
    "\n",
    "    # cost 계산\n",
    "    cost = F.mse_loss(prediction, y_train)\n",
    "\n",
    "    # cost로 H(x) 계산\n",
    "    optimizer.zero_grad()\n",
    "    cost.backward()\n",
    "    optimizer.step()\n",
    "\n",
    "    print('Epoch {:4d}/{} Batch {}/{} Cost: {:.6f}'.format(\n",
    "        epoch, nb_epochs, batch_idx+1, len(dataloader),\n",
    "        cost.item()\n",
    "        ))"
   ],
   "metadata": {
    "collapsed": false
   }
  },
  {
   "cell_type": "code",
   "execution_count": 27,
   "outputs": [
    {
     "name": "stdout",
     "output_type": "stream",
     "text": [
      "훈련 후 입력이 73, 80, 75일 때의 예측값 : tensor([[156.6089]], grad_fn=<AddmmBackward0>)\n"
     ]
    }
   ],
   "source": [
    "# 임의의 입력 [73, 80, 75]를 선언\n",
    "new_var =  torch.FloatTensor([[73, 80, 75]])\n",
    "# 입력한 값 [73, 80, 75]에 대해서 예측값 y를 리턴받아서 pred_y에 저장\n",
    "pred_y = model(new_var)\n",
    "print(\"훈련 후 입력이 73, 80, 75일 때의 예측값 :\", pred_y)"
   ],
   "metadata": {
    "collapsed": false
   }
  },
  {
   "cell_type": "code",
   "execution_count": null,
   "outputs": [],
   "source": [],
   "metadata": {
    "collapsed": false
   }
  }
 ],
 "metadata": {
  "kernelspec": {
   "display_name": "Python 3",
   "language": "python",
   "name": "python3"
  },
  "language_info": {
   "codemirror_mode": {
    "name": "ipython",
    "version": 2
   },
   "file_extension": ".py",
   "mimetype": "text/x-python",
   "name": "python",
   "nbconvert_exporter": "python",
   "pygments_lexer": "ipython2",
   "version": "2.7.6"
  }
 },
 "nbformat": 4,
 "nbformat_minor": 0
}
