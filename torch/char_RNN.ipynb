{
 "cells": [
  {
   "cell_type": "code",
   "execution_count": 14,
   "metadata": {
    "collapsed": true
   },
   "outputs": [],
   "source": [
    "import torch\n",
    "import torch.nn as nn\n",
    "import torch.optim as optim\n",
    "import numpy as np"
   ]
  },
  {
   "cell_type": "code",
   "execution_count": 2,
   "outputs": [],
   "source": [
    "sentence = (\"if you want to build a ship, don't drum up people together to \"\n",
    "            \"collect wood and don't assign them tasks and work, but rather \"\n",
    "            \"teach them to long for the endless immensity of the sea.\")"
   ],
   "metadata": {
    "collapsed": false
   }
  },
  {
   "cell_type": "code",
   "execution_count": 3,
   "outputs": [],
   "source": [
    "char_set = list(set(sentence)) # 중복을 제거한 문자 집합 생성\n",
    "char_dic = {c: i for i, c in enumerate(char_set)} # 각 문자에 정수 인코딩"
   ],
   "metadata": {
    "collapsed": false
   }
  },
  {
   "cell_type": "code",
   "execution_count": 5,
   "outputs": [
    {
     "name": "stdout",
     "output_type": "stream",
     "text": [
      "{'.': 0, 'w': 1, 'r': 2, 'n': 3, 'f': 4, 't': 5, 'e': 6, 'i': 7, 's': 8, ' ': 9, 'h': 10, 'u': 11, 'k': 12, 'b': 13, 'd': 14, 'm': 15, 'a': 16, 'p': 17, 'o': 18, 'c': 19, ',': 20, \"'\": 21, 'l': 22, 'y': 23, 'g': 24}\n"
     ]
    }
   ],
   "source": [
    "print(char_dic) # 공백도 여기서는 하나의 원소"
   ],
   "metadata": {
    "collapsed": false
   }
  },
  {
   "cell_type": "code",
   "execution_count": 6,
   "outputs": [
    {
     "name": "stdout",
     "output_type": "stream",
     "text": [
      "문자 집합의 크기 : 25\n"
     ]
    }
   ],
   "source": [
    "dic_size = len(char_dic)\n",
    "print('문자 집합의 크기 : {}'.format(dic_size))"
   ],
   "metadata": {
    "collapsed": false
   }
  },
  {
   "cell_type": "code",
   "execution_count": 7,
   "outputs": [],
   "source": [
    "hidden_size = dic_size\n",
    "sequence_length = 10\n",
    "learning_rate = 0.1"
   ],
   "metadata": {
    "collapsed": false
   }
  },
  {
   "cell_type": "code",
   "execution_count": 11,
   "outputs": [
    {
     "name": "stdout",
     "output_type": "stream",
     "text": [
      "0 if you wan -> f you want\n",
      "1 f you want ->  you want \n",
      "2  you want  -> you want t\n",
      "3 you want t -> ou want to\n",
      "4 ou want to -> u want to \n",
      "5 u want to  ->  want to b\n",
      "6  want to b -> want to bu\n",
      "7 want to bu -> ant to bui\n",
      "8 ant to bui -> nt to buil\n",
      "9 nt to buil -> t to build\n",
      "10 t to build ->  to build \n",
      "11  to build  -> to build a\n",
      "12 to build a -> o build a \n",
      "13 o build a  ->  build a s\n",
      "14  build a s -> build a sh\n",
      "15 build a sh -> uild a shi\n",
      "16 uild a shi -> ild a ship\n",
      "17 ild a ship -> ld a ship,\n",
      "18 ld a ship, -> d a ship, \n",
      "19 d a ship,  ->  a ship, d\n",
      "20  a ship, d -> a ship, do\n",
      "21 a ship, do ->  ship, don\n",
      "22  ship, don -> ship, don'\n",
      "23 ship, don' -> hip, don't\n",
      "24 hip, don't -> ip, don't \n",
      "25 ip, don't  -> p, don't d\n",
      "26 p, don't d -> , don't dr\n",
      "27 , don't dr ->  don't dru\n",
      "28  don't dru -> don't drum\n",
      "29 don't drum -> on't drum \n",
      "30 on't drum  -> n't drum u\n",
      "31 n't drum u -> 't drum up\n",
      "32 't drum up -> t drum up \n",
      "33 t drum up  ->  drum up p\n",
      "34  drum up p -> drum up pe\n",
      "35 drum up pe -> rum up peo\n",
      "36 rum up peo -> um up peop\n",
      "37 um up peop -> m up peopl\n",
      "38 m up peopl ->  up people\n",
      "39  up people -> up people \n",
      "40 up people  -> p people t\n",
      "41 p people t ->  people to\n",
      "42  people to -> people tog\n",
      "43 people tog -> eople toge\n",
      "44 eople toge -> ople toget\n",
      "45 ople toget -> ple togeth\n",
      "46 ple togeth -> le togethe\n",
      "47 le togethe -> e together\n",
      "48 e together ->  together \n",
      "49  together  -> together t\n",
      "50 together t -> ogether to\n",
      "51 ogether to -> gether to \n",
      "52 gether to  -> ether to c\n",
      "53 ether to c -> ther to co\n",
      "54 ther to co -> her to col\n",
      "55 her to col -> er to coll\n",
      "56 er to coll -> r to colle\n",
      "57 r to colle ->  to collec\n",
      "58  to collec -> to collect\n",
      "59 to collect -> o collect \n",
      "60 o collect  ->  collect w\n",
      "61  collect w -> collect wo\n",
      "62 collect wo -> ollect woo\n",
      "63 ollect woo -> llect wood\n",
      "64 llect wood -> lect wood \n",
      "65 lect wood  -> ect wood a\n",
      "66 ect wood a -> ct wood an\n",
      "67 ct wood an -> t wood and\n",
      "68 t wood and ->  wood and \n",
      "69  wood and  -> wood and d\n",
      "70 wood and d -> ood and do\n",
      "71 ood and do -> od and don\n",
      "72 od and don -> d and don'\n",
      "73 d and don' ->  and don't\n",
      "74  and don't -> and don't \n",
      "75 and don't  -> nd don't a\n",
      "76 nd don't a -> d don't as\n",
      "77 d don't as ->  don't ass\n",
      "78  don't ass -> don't assi\n",
      "79 don't assi -> on't assig\n",
      "80 on't assig -> n't assign\n",
      "81 n't assign -> 't assign \n",
      "82 't assign  -> t assign t\n",
      "83 t assign t ->  assign th\n",
      "84  assign th -> assign the\n",
      "85 assign the -> ssign them\n",
      "86 ssign them -> sign them \n",
      "87 sign them  -> ign them t\n",
      "88 ign them t -> gn them ta\n",
      "89 gn them ta -> n them tas\n",
      "90 n them tas ->  them task\n",
      "91  them task -> them tasks\n",
      "92 them tasks -> hem tasks \n",
      "93 hem tasks  -> em tasks a\n",
      "94 em tasks a -> m tasks an\n",
      "95 m tasks an ->  tasks and\n",
      "96  tasks and -> tasks and \n",
      "97 tasks and  -> asks and w\n",
      "98 asks and w -> sks and wo\n",
      "99 sks and wo -> ks and wor\n",
      "100 ks and wor -> s and work\n",
      "101 s and work ->  and work,\n",
      "102  and work, -> and work, \n",
      "103 and work,  -> nd work, b\n",
      "104 nd work, b -> d work, bu\n",
      "105 d work, bu ->  work, but\n",
      "106  work, but -> work, but \n",
      "107 work, but  -> ork, but r\n",
      "108 ork, but r -> rk, but ra\n",
      "109 rk, but ra -> k, but rat\n",
      "110 k, but rat -> , but rath\n",
      "111 , but rath ->  but rathe\n",
      "112  but rathe -> but rather\n",
      "113 but rather -> ut rather \n",
      "114 ut rather  -> t rather t\n",
      "115 t rather t ->  rather te\n",
      "116  rather te -> rather tea\n",
      "117 rather tea -> ather teac\n",
      "118 ather teac -> ther teach\n",
      "119 ther teach -> her teach \n",
      "120 her teach  -> er teach t\n",
      "121 er teach t -> r teach th\n",
      "122 r teach th ->  teach the\n",
      "123  teach the -> teach them\n",
      "124 teach them -> each them \n",
      "125 each them  -> ach them t\n",
      "126 ach them t -> ch them to\n",
      "127 ch them to -> h them to \n",
      "128 h them to  ->  them to l\n",
      "129  them to l -> them to lo\n",
      "130 them to lo -> hem to lon\n",
      "131 hem to lon -> em to long\n",
      "132 em to long -> m to long \n",
      "133 m to long  ->  to long f\n",
      "134  to long f -> to long fo\n",
      "135 to long fo -> o long for\n",
      "136 o long for ->  long for \n",
      "137  long for  -> long for t\n",
      "138 long for t -> ong for th\n",
      "139 ong for th -> ng for the\n",
      "140 ng for the -> g for the \n",
      "141 g for the  ->  for the e\n",
      "142  for the e -> for the en\n",
      "143 for the en -> or the end\n",
      "144 or the end -> r the endl\n",
      "145 r the endl ->  the endle\n",
      "146  the endle -> the endles\n",
      "147 the endles -> he endless\n",
      "148 he endless -> e endless \n",
      "149 e endless  ->  endless i\n",
      "150  endless i -> endless im\n",
      "151 endless im -> ndless imm\n",
      "152 ndless imm -> dless imme\n",
      "153 dless imme -> less immen\n",
      "154 less immen -> ess immens\n",
      "155 ess immens -> ss immensi\n",
      "156 ss immensi -> s immensit\n",
      "157 s immensit ->  immensity\n",
      "158  immensity -> immensity \n",
      "159 immensity  -> mmensity o\n",
      "160 mmensity o -> mensity of\n",
      "161 mensity of -> ensity of \n",
      "162 ensity of  -> nsity of t\n",
      "163 nsity of t -> sity of th\n",
      "164 sity of th -> ity of the\n",
      "165 ity of the -> ty of the \n",
      "166 ty of the  -> y of the s\n",
      "167 y of the s ->  of the se\n",
      "168  of the se -> of the sea\n",
      "169 of the sea -> f the sea.\n"
     ]
    }
   ],
   "source": [
    "x_data = []\n",
    "y_data = []\n",
    "\n",
    "for i in range(0, len(sentence) - sequence_length):\n",
    "    x_str = sentence[i:i + sequence_length]\n",
    "    y_str = sentence[i + 1: i + sequence_length + 1]\n",
    "    print(i, x_str, '->', y_str)\n",
    "\n",
    "    x_data.append([char_dic[c] for c in x_str])  # x str to index\n",
    "    y_data.append([char_dic[c] for c in y_str])  # y str to index\n"
   ],
   "metadata": {
    "collapsed": false
   }
  },
  {
   "cell_type": "code",
   "execution_count": 12,
   "outputs": [
    {
     "name": "stdout",
     "output_type": "stream",
     "text": [
      "[7, 4, 9, 23, 18, 11, 9, 1, 16, 3]\n",
      "[4, 9, 23, 18, 11, 9, 1, 16, 3, 5]\n"
     ]
    }
   ],
   "source": [
    "print(x_data[0])\n",
    "print(y_data[0])"
   ],
   "metadata": {
    "collapsed": false
   }
  },
  {
   "cell_type": "code",
   "execution_count": 15,
   "outputs": [],
   "source": [
    "x_one_hot = [np.eye(dic_size)[x] for x in x_data] # x 데이터는 원-핫 인코딩\n",
    "X = torch.FloatTensor(x_one_hot)\n",
    "Y = torch.LongTensor(y_data)"
   ],
   "metadata": {
    "collapsed": false
   }
  },
  {
   "cell_type": "code",
   "execution_count": 16,
   "outputs": [
    {
     "name": "stdout",
     "output_type": "stream",
     "text": [
      "훈련 데이터의 크기 : torch.Size([170, 10, 25])\n",
      "레이블의 크기 : torch.Size([170, 10])\n"
     ]
    }
   ],
   "source": [
    "print('훈련 데이터의 크기 : {}'.format(X.shape))\n",
    "print('레이블의 크기 : {}'.format(Y.shape))"
   ],
   "metadata": {
    "collapsed": false
   }
  },
  {
   "cell_type": "code",
   "execution_count": 17,
   "outputs": [
    {
     "name": "stdout",
     "output_type": "stream",
     "text": [
      "tensor([[0., 0., 0., 0., 0., 0., 0., 1., 0., 0., 0., 0., 0., 0., 0., 0., 0., 0.,\n",
      "         0., 0., 0., 0., 0., 0., 0.],\n",
      "        [0., 0., 0., 0., 1., 0., 0., 0., 0., 0., 0., 0., 0., 0., 0., 0., 0., 0.,\n",
      "         0., 0., 0., 0., 0., 0., 0.],\n",
      "        [0., 0., 0., 0., 0., 0., 0., 0., 0., 1., 0., 0., 0., 0., 0., 0., 0., 0.,\n",
      "         0., 0., 0., 0., 0., 0., 0.],\n",
      "        [0., 0., 0., 0., 0., 0., 0., 0., 0., 0., 0., 0., 0., 0., 0., 0., 0., 0.,\n",
      "         0., 0., 0., 0., 0., 1., 0.],\n",
      "        [0., 0., 0., 0., 0., 0., 0., 0., 0., 0., 0., 0., 0., 0., 0., 0., 0., 0.,\n",
      "         1., 0., 0., 0., 0., 0., 0.],\n",
      "        [0., 0., 0., 0., 0., 0., 0., 0., 0., 0., 0., 1., 0., 0., 0., 0., 0., 0.,\n",
      "         0., 0., 0., 0., 0., 0., 0.],\n",
      "        [0., 0., 0., 0., 0., 0., 0., 0., 0., 1., 0., 0., 0., 0., 0., 0., 0., 0.,\n",
      "         0., 0., 0., 0., 0., 0., 0.],\n",
      "        [0., 1., 0., 0., 0., 0., 0., 0., 0., 0., 0., 0., 0., 0., 0., 0., 0., 0.,\n",
      "         0., 0., 0., 0., 0., 0., 0.],\n",
      "        [0., 0., 0., 0., 0., 0., 0., 0., 0., 0., 0., 0., 0., 0., 0., 0., 1., 0.,\n",
      "         0., 0., 0., 0., 0., 0., 0.],\n",
      "        [0., 0., 0., 1., 0., 0., 0., 0., 0., 0., 0., 0., 0., 0., 0., 0., 0., 0.,\n",
      "         0., 0., 0., 0., 0., 0., 0.]])\n"
     ]
    }
   ],
   "source": [
    "print(X[0])"
   ],
   "metadata": {
    "collapsed": false
   }
  },
  {
   "cell_type": "code",
   "execution_count": 18,
   "outputs": [
    {
     "name": "stdout",
     "output_type": "stream",
     "text": [
      "tensor([ 4,  9, 23, 18, 11,  9,  1, 16,  3,  5])\n"
     ]
    }
   ],
   "source": [
    "print(Y[0])"
   ],
   "metadata": {
    "collapsed": false
   }
  },
  {
   "cell_type": "code",
   "execution_count": 19,
   "outputs": [],
   "source": [
    "class Net(torch.nn.Module):\n",
    "    def __init__(self, input_dim, hidden_dim, layers): # 현재 hidden_size는 dic_size와 같음.\n",
    "        super(Net, self).__init__()\n",
    "        self.rnn = torch.nn.RNN(input_dim, hidden_dim, num_layers=layers, batch_first=True)\n",
    "        self.fc = torch.nn.Linear(hidden_dim, hidden_dim, bias=True)\n",
    "\n",
    "    def forward(self, x):\n",
    "        x, _status = self.rnn(x)\n",
    "        x = self.fc(x)\n",
    "        return x"
   ],
   "metadata": {
    "collapsed": false
   }
  },
  {
   "cell_type": "code",
   "execution_count": 20,
   "outputs": [],
   "source": [
    "net = Net(dic_size, hidden_size, 2) # 이번에는 층을 두 개 쌓습니다"
   ],
   "metadata": {
    "collapsed": false
   }
  },
  {
   "cell_type": "code",
   "execution_count": 21,
   "outputs": [],
   "source": [
    "criterion = torch.nn.CrossEntropyLoss()\n",
    "optimizer = optim.Adam(net.parameters(), learning_rate)"
   ],
   "metadata": {
    "collapsed": false
   }
  },
  {
   "cell_type": "code",
   "execution_count": 22,
   "outputs": [
    {
     "name": "stdout",
     "output_type": "stream",
     "text": [
      "torch.Size([170, 10, 25])\n"
     ]
    }
   ],
   "source": [
    "outputs = net(X)\n",
    "print(outputs.shape) # 3차원 텐서"
   ],
   "metadata": {
    "collapsed": false
   }
  },
  {
   "cell_type": "code",
   "execution_count": 23,
   "outputs": [
    {
     "name": "stdout",
     "output_type": "stream",
     "text": [
      "torch.Size([1700, 25])\n"
     ]
    }
   ],
   "source": [
    "print(outputs.view(-1, dic_size).shape) # 2차원 텐서로 변환."
   ],
   "metadata": {
    "collapsed": false
   }
  },
  {
   "cell_type": "code",
   "execution_count": 24,
   "outputs": [
    {
     "name": "stdout",
     "output_type": "stream",
     "text": [
      "torch.Size([170, 10])\n",
      "torch.Size([1700])\n"
     ]
    }
   ],
   "source": [
    "print(Y.shape)\n",
    "print(Y.view(-1).shape)"
   ],
   "metadata": {
    "collapsed": false
   }
  },
  {
   "cell_type": "code",
   "execution_count": 25,
   "outputs": [
    {
     "name": "stdout",
     "output_type": "stream",
     "text": [
      "  d     w  dddd     dwd w   d d   d w  d          ddd     d dd       dw   dw  d d   dwd wd   d   dw   ww  dw    d   dww    d w   d d   ddd d    d dwd     ww ddw        dd d d  dww\n",
      "                                                                                                                                                                                   \n",
      "mm. om. nm.mmg.mgmgmmmgmm.umgg.mmkgmggmm..mgggggm.ggg.gmm.yog..omg.gmgg..mm..uggmg.hmg.gmm.gmgmggm.ggggm.gggmgypmg.wgm.wgmpymmg.m,g.mmgug.gmmg.mmg.omg.mmg.mmg.ggm..gmg.mmgmwgmpgmm\n",
      "oononneeooeoeoooooeeoeoeeoeoneoeooeoeooooeoeooooooeeeooeoeooeoeoneooeeeooonooeooooooeoeooooooeoeooeoeonooeoooeooooeoeonoeoenoeoeeneeoenoeoeoneoeoeooeoenoeoooooeoooooooeoooneeoeooe\n",
      "                                                          t t                                                   t t t      t t   t                t                                \n",
      "  t t y..ht  hhehy. . .ht t tht t t t t h  h thhhhhehhhehh. hhy thth he   he  h.h tht t t h  ent y.hy t hh  t t t t t t t t. h.t thth ht .y th.e h.he yhthty yeeh thh tht yh  t  y \n",
      "tttt y.nnnyn n.n.nn n . t t thnht t tnt.nt n.t nnyhn nhenh.hn.n ietn .nn nnn. n n tht thtn.thnnt.nn n tnn.tnthtet t t t tntt n t thtnh.he.n tninnh.hnnnntnnn n.nnhth. thynn.nin  nn\n",
      "tttt ttapdii  tat t t t a t t t t a ataitaptpt ittoa t it t apt tatt 'td at d t a t a toa tt it tta a t tit t t t t t t it t a t d id it ia dttrt t attat id hirt t iat t it idted \n",
      " toe  ter oit ted t d d e t i n t a ot t oed t ed eet oed thadt id toit  tt d eed tha  eid ehed tto tei   ekd t d t i t ed tert ed od te tn mtted thed ed erd ir  d  ed i  thed edd\n",
      " t e  ten  eeo ed n d d e n d n t e  t tnoe nn ertoe n ed toedn en t it   t n ten the  een them teo t i n ten t d n d n em toe   d en teo n  tten thed ot ert ien t  ed d  them ee \n",
      " n n n en  eo   n n d n e n d n n d  n d eoen  e toe n en the n  n n io   t n n n the   en then toe n i n ton t d n d n en thn n i en to  e    en then n  e   i n n  en d  then en \n",
      " n e  oenc eo  ed d d d i n d n theo t ioeeon  e toe   en thesoe e t io   e n een then een then toe n i n eon t i d d d en thec  i en toe eo tten then n  e t i n n  eo io then en \n",
      " s o toenc to led d d t i t d n thio t ioedon  e ton t en thecon e t io t i d den thin ien then th ln i t ton t i d d t en thgc  ioen th len tten thech cle t ien t  eo io theth d \n",
      " cho coanc aonl d d d t iot t d t do t to dons d tor thed thrlon e t io t tod dod t ds een then th  d i t don t i t d t ed thgc  toen th lonctt d thethnt e t iod ts ts to thedh ts\n",
      "tcto toans aonl d d d t ioo tor t aont tp dors a tor thed tonlon ect iont d d dor t an  gp them to  d a d aon t t d d t em torc  toem to lonkttod toerhnt a t iod ts gp to ther  ds\n",
      "gcto toand to t t a d t a s tor t ao t tp dor  a tor ther to con e't io t a m aor t an igm toem to  t inm aon t a d d t er togc  toem to tonk tor toem nt a t iom ts gp to toem  ap\n",
      "tcto doanm to c t a d t aus tor't ao t ap d r ia'toa then thacon o't io t tnm aor't an igo toem toekd inm aon't a t d then toact toem to conkttor toem nt a't aom ts tp to toem  as\n",
      "tpio doanm tonb d a d d a s tor't aoum apedor  a tog them to con o't ionm a m aor't an igm toem toeks inm aon t a t d them toemh toem tonconkstom toem nt a t aom nc ip dn toem  as\n",
      "t to doand to l t a d t ics ton t d nt ip d nsia t g dhen th conlo't woud and don t ds igs them toe d ind don t d t d then thech them to lonc tom themsnt e s wom n iip dn thems tc\n",
      "tpioudoand wo b d d dnd ips don't doud ip donp e thg dher to conlem, woud dnd don't dn  gp toep toeks ind don't iut d then toech them to boncstom thepsnd e s iom ncitp or toepl dc\n",
      "tptoudoand wo b t d dns ips ton't d ud ip ronp e thgethen to conler, wo d dnd don't ds igs toem toeks ins don , iut d then toech ther to boncsfor theplnd e s wos dsigy dr toepl ac\n",
      "gptoudoond to but d d t ips ton't d ud ip ronnle t g then to conlert wo d a d aon't ds igs ther toeks tnd aon t iut d then togch ther to bo csfor therlnd e s wom nsigy op toerl rc\n",
      "gptoudoand to buted a t ipt ton't aoud to oornle thgether to co lert wond a d aon't ds igp ther to ks tnd aon t tut d then to ch ther to bo ctfor therlnd e s wom ncigy op toerl rs\n",
      "gptoutoand wo buted a t ipt ton't aoud to oerple thg ther to co lert wond a d aon't assigp them taeks tnd aonk, tut d ther to ch ther ta bo ctfor thenlnd e siwom dsigy op toenl ds\n",
      "gptoutoand wo buted ast ipt don't aoud to merple together to co eect tond a d aon't assigp them taeks tnd aork, iut a ther to ch them ta bongsfor themlndle s wom dsity op theml ds\n",
      "gptoutoand to luied a t ipt don't aoud ip menple together th co eect tond a d aon't dssigp them ta ks ind aork, dut d them thach them to bong for themlndle s tomensity op themleds\n",
      "gptondoand to luied a t ipt don't dout ip menple t gether th co eect tond a d aon't dssigp them tosks ind aork, dut d ther thach them to bong fon themlnsle s iom dsigy tf thepl dc\n",
      "tptoltoard to luied a t ipt ion'thaouteap oerple th ether to co lect wond a d aor't a sigp thep toaks ind aork, iut a ther toach them to long for theplodle s iomen ity op toepleac\n",
      "gpho dwand to bui d ant ip, ion't aout ip oenple together to bo lect woud a d aon't assign them tosks ind aorks iut d ther thach them to bo g for them ndle s iomensity of them eac\n",
      "gdhoudwand to bui d ans ip, ion't aoud ip oenplestogether th boulect woud and aon't assigr them tosks ind aorks iut d ther thach them to bo g for them ndle s immensity op them eas\n",
      "gdtoumwand to luild ant ip, ion't aoum ap penp estogether to bo lect word and aon't assigr them tosks ind aork, iut a ther toach ther to long for them ndless immensity op them eac\n",
      "cdtoumwend to luild ant ip, ion't doum ap oeop estogether to co lect word and aon't dssigr them tosks ind work, iut a ther toach them to long for them ndless immensity of them eac\n",
      "cdtoumwend to luild dnt ip, don't doum dp oeoplestogether to ch lect aond and don't dssign them tosks ind dorks dut d ther toach them to lo g for them ndless immensity of them hac\n",
      "cdyoutwend to luild ans ip, bon't aoum ap peoplestogethem to collect word and aon't assign them tosks ind work, but a ther toach them to long for them ndless immensity op them eac\n",
      "p houtwand to luild ans ip, bon't aoum ap peoplesthgether to collect word and aon't assign them tosks and work, but a ther toach them to long for them ndless immensity of them eac\n",
      "p houmwand to cuild ans ip, don't aoum ap people together th collect word and aon't assign them toskshand work, but a ther thach them to long for them ndless immensity of them eac\n",
      "p houtwand to luild ans ip, don't aoum ap people together to collect word a d aon't assign them tosks and aork, but a ther toach them to long for them ndle s immensity of them ea'\n",
      "p houmwand to luild ans ip, don't arum ap peoplectogether to collect word and aon't dssign the  tosks and work, dut a ther toach them to long for them ndless immensity of them ea'\n",
      "p youmwand to luild ans ip, don't drum ap people together to collect word and aon't dssign them tosks and work, dut r ther toach them to long for them ndless immensity of them ea'\n",
      "p youmwand to luild ans ip, don't drum ap people together to collect word and aon't dssign them tosks and work, dut r ther toach them to long for them ndless immensity of them ea'\n",
      "p houmwand to luild ans ip, don't drum ap people together to collect word and don't dssign the  tosks and work, dut r ther toach them to long for themendless immensity of themeeas\n",
      "p youmwant to build ans ip, don't drum ap people together to collect word and don't dssign the  tosks and work, but r ther toach them to long for the endless immensity of the eeas\n",
      "p youmwant to luild ans ip, don't drum ap people together to collect word and don't dssign the  tosks and work, but r ther toach them to long for the endless immensity of the eeas\n",
      "p youmwant to luild ans ip, bon't arum ap people together to collect woud and don't assign the  tosks and work, but a ther toach ther to long for the endless immensity of the eeas\n",
      "p youmwant to cuild ans ip, don't arum ap people together to collect word and don't assign them tosks and work, but aather toach them to long for themendless immensity of themeeas\n",
      "p youmwant to build ans ip, don't arum ap people together to collect word and don't assign them tosks and work, but rather toach them to long for themendless immensity of themeeas\n",
      "p youmwant to luild anship, don't drum ap people together to collect wood and don't dssign them tosks and work, but rather toach them to long for the endless immensity of the eeas\n",
      "t youmwant to luild anship, don't drum ip people together to collect wood and don't dssign them tasks and work, but rather toach them to long for the endless immensity of the eeas\n",
      "t youmwant to luild anship, don't drum ap people together to collect wood and don't dssign them tosks and work, but rather teach them to long for the endless immensity of the eeas\n",
      "t youmwant to luild anship, don't drum ap people together to collect wood and don't dssign them tosks and work, but rather toach them to long for the endless immensity of the eeas\n",
      "t youmwant to build anship, don't arum ap people together to collect wood and don't assign them tosks and work, but rather toach them to long for the sndless immensity of the soas\n",
      "p youmwant to build a ship, don't drum up people together to collect wood and don't dssign them tosks and work, but rather toach them to long for themendless immensity of themeeas\n",
      "p youmwant to build a ship, don't drum up people together to collect wood and don't dssign the  tosks and work, but rather toach them to long for the endless immensity of the eeas\n",
      "p youmwant to luild a ship, don't arum up people together to collect wood and don't assign the  tasks and work, but rather toach them to long for the endless immensity of the seas\n",
      "p youmwant to cuild a ship, don't drum up people together to collect wood and don't dssign them tasks and work, but rather toach them to long for the endless immensity of the seas\n",
      "p youmwant to luild a ship, don't drum up people together to collect wood and don't dssign them tosks and work, but rather toach ther to long for the endless immensity of the eeas\n",
      "l youmwant to build a ship, don't drum up people together to collect wood and don't dssign them tosks and work, but rather toach them to long for the sndless immensity of the s as\n",
      "l youmwant to build a ship, don't drum up people together to collect wood and don't assign them tosks and work, but rather toach them to long for the endless immensity of the eeas\n",
      "l youmwant to build a ship, don't arum up people together to collect wood and don't assign them tosks and work, but rather toach them to long for the endless immensity of the eeas\n",
      "p youmwant to build a ship, don't drum up people together to collect wood and don't assign them tosks and work, but rather teach them to long for the endless immensity of the seas\n",
      "p youmwant to build a ship, don't drum up people together to collect wood and don't assign the  tasks and work, but rather toach them to long for the endless immensity of the seas\n",
      "p youmwant to build a ship, don't drum up people together to collect wood and don't dssign them tasks and work, but rather toach them to long for the endless immensity of the seas\n",
      "p youtwant to build a ship, don't arum up people together to collect wood and don't assign them tosks and work, but rather toach them to long for the endless immensity of the seas\n",
      "g youtwant to build a ship, don't arum up people together to collect wood and don't assign them tasks and work, but rather toach them to long for the endless immensity of the seas\n",
      "g youmwant to build a ship, don't arum up people together to collect wood and don't assign them tasks and work, but rather toach them to long for the endless immensity of the seas\n",
      "g youmwant to build a ship, don't arum up people together to collect wood and don't assign them tasks and work, but rather toach them to long for the endless immensity of the seas\n",
      "g youmwant to build a ship, don't drum up people together to collect wood and don't assign them tasks and work, but rather toach them to long for the endless immensity of the seas\n",
      "p youmwant to build a ship, don't drum up people together to collect wood and don't assign them tasks and work, but rather toach them to long for the endless immensity of the seas\n",
      "p youmwant to build a ship, don't drum up people together to collect wood and don't dssign them tasks and work, but rather toach them to long for the endless immensity of the seas\n",
      "f youmwant to build a ship, don't drum up people together to collect wood and don't dssign them tasks and work, but rather toach them to long for the endless immensity of the seas\n",
      "f youmwant to build a ship, don't drum up people together to collect wood and don't assign them tasks and work, but rather toach them to long for the endless immensity of the seac\n",
      "f youmwant to build a ship, don't drum up people together to collect wood and don't assign them tasks and work, but rather toach them to long for the endless immensity of the seac\n",
      "f youmwant to build a ship, don't drum up people together to collect wood and don't dssign them tasks and work, but rather toach them to long for the endless immensity of the seac\n",
      "g youmwant to build a ship, don't drum up people together to collect wood and don't assign the  tasks and work, but rather toach them to long for the endless immensity of the seas\n",
      "p youmwant to build a ship, don't arum up people together to collect wood and don't assign them tasks and work, but rather toach them to long for the endless immensity of the seac\n",
      "p you want to build a ship, don't drum up people together to collect wood and don't assign them tasks and work, but rather toach them to long for the endless immensity of the seas\n",
      "g you want to build a ship, don't drum up people together to collect wood and don't dssign them tasks and work, but rather toach them to long for the endless immensity of the seac\n",
      "p you want to build a ship, don't drum up people together to collect wood and don't assign them tasks and work, but rather toach them to long for the endless immensity of the seac\n",
      "p you want to build a ship, don't drum up people together to collect wood and don't assign them tasks and work, but rather toach them to long for the endless immensity of the seac\n",
      "f you want to build a ship, don't drum up people together to collect wood and don't assign them tasks and work, but rather toach them to long for the endless immensity of the seac\n",
      "f you want to build a ship, don't drum up people together to collect wood and don't assign them tasks and work, but rather toach them to long for the endless immensity of the seas\n",
      "p you want to build a ship, don't drum up people together to collect wood and don't assign them tasks and work, but rather toach them to long for the endless immensity of the seas\n",
      "g you want to build a ship, don't drum up people together to collect wood and don't assign them tasks and work, but rather toach them to long for the endless immensity of the seas\n",
      "g you want to build a ship, don't drum up people together to collect wood and don't assign them tasks and work, but rather toach them to long for the endless immensity of the sea.\n",
      "g you want to build a ship, don't drum up people together to collect wood and don't assign them tasks and work, but rather toach them to long for the endless immensity of the sea.\n",
      "p you want to build a ship, don't drum up people together to collect wood and don't assign them tasks and work, but rather toach them to long for the endless immensity of the sea.\n",
      "p you want to build a ship, don't drum up people together to collect wood and don't assign them tasks and work, but rather toach them to long for the endless immensity of the sea.\n",
      "p you want to build a ship, don't drum up people together to collect wood and don't assign them tasks and work, but rather toach them to long for the endless immensity of the sea.\n",
      "p you want to build a ship, don't drum up people together to collect wood and don't assign them tasks and work, but rather toach them to long for the endless immensity of the sea.\n",
      "p you want to build a ship, don't drum up people together to collect wood and don't assign them tasks and work, but rather toach them to long for the endless immensity of the sea.\n",
      "p you want to build a ship, don't drum up people together to collect wood and don't assign them tasks and work, but rather toach them to long for the endless immensity of the sea.\n",
      "p you want to build a ship, don't drum up people together to collect wood and don't assign them tasks and work, but rather toach them to long for the endless immensity of the sea.\n",
      "p you want to build a ship, don't arum up people together to collect wood and don't assign them tasks and work, but rather toach them to long for the endless immensity of the sea.\n",
      "p you want to build a ship, don't drum up people together to collect wood and don't assign them tasks and work, but rather toach them to long for the endless immensity of the sea.\n",
      "p you want to build a ship, don't drum up people together to collect wood and don't assign them tasks and work, but rather toach them to long for the endless immensity of the sea.\n",
      "p you want to build a ship, don't drum up people together to collect wood and don't assign them tasks and work, but rather toach them to long for the endless immensity of the sea.\n",
      "p you want to build a ship, don't drum up people together to collect wood and don't assign them tasks and work, but rather toach them to long for the endless immensity of the sea.\n",
      "p you want to build a ship, don't drum up people together to collect wood and don't assign them tasks and work, but rather toach them to long for the endless immensity of the sea.\n",
      "p you want to build a ship, don't drum up people together to collect wood and don't assign them tasks and work, but rather toach them to long for the endless immensity of the sea.\n",
      "p you want to build a ship, don't drum up people together to collect wood and don't assign them tasks and work, but rather teach them to long for the endless immensity of the sea.\n"
     ]
    }
   ],
   "source": [
    "for i in range(100):\n",
    "    optimizer.zero_grad()\n",
    "    outputs = net(X) # (170, 10, 25) 크기를 가진 텐서를 매 에포크마다 모델의 입력으로 사용\n",
    "    loss = criterion(outputs.view(-1, dic_size), Y.view(-1))\n",
    "    loss.backward()\n",
    "    optimizer.step()\n",
    "\n",
    "    # results의 텐서 크기는 (170, 10)\n",
    "    results = outputs.argmax(dim=2)\n",
    "    predict_str = \"\"\n",
    "    for j, result in enumerate(results):\n",
    "        if j == 0: # 처음에는 예측 결과를 전부 가져오지만\n",
    "            predict_str += ''.join([char_set[t] for t in result])\n",
    "        else: # 그 다음에는 마지막 글자만 반복 추가\n",
    "            predict_str += char_set[result[-1]]\n",
    "\n",
    "    print(predict_str)"
   ],
   "metadata": {
    "collapsed": false
   }
  },
  {
   "cell_type": "code",
   "execution_count": null,
   "outputs": [],
   "source": [],
   "metadata": {
    "collapsed": false
   }
  }
 ],
 "metadata": {
  "kernelspec": {
   "display_name": "Python 3",
   "language": "python",
   "name": "python3"
  },
  "language_info": {
   "codemirror_mode": {
    "name": "ipython",
    "version": 2
   },
   "file_extension": ".py",
   "mimetype": "text/x-python",
   "name": "python",
   "nbconvert_exporter": "python",
   "pygments_lexer": "ipython2",
   "version": "2.7.6"
  }
 },
 "nbformat": 4,
 "nbformat_minor": 0
}
