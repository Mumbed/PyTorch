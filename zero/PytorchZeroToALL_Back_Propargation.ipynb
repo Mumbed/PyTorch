{
 "cells": [
  {
   "cell_type": "code",
   "execution_count": 8,
   "metadata": {
    "collapsed": true
   },
   "outputs": [],
   "source": [
    "import torch\n",
    "from torch.autograd import Variable\n",
    "import pdb"
   ]
  },
  {
   "cell_type": "code",
   "execution_count": 9,
   "outputs": [],
   "source": [
    "x_data = [1.0, 2.0, 3.0]\n",
    "y_data = [2.0, 4.0, 6.0]"
   ],
   "metadata": {
    "collapsed": false
   }
  },
  {
   "cell_type": "code",
   "execution_count": 10,
   "outputs": [],
   "source": [
    "w = Variable(torch.Tensor([1.0]), requires_grad =True)"
   ],
   "metadata": {
    "collapsed": false
   }
  },
  {
   "cell_type": "code",
   "execution_count": 11,
   "outputs": [],
   "source": [
    "def forward(x):\n",
    "    return x * w"
   ],
   "metadata": {
    "collapsed": false
   }
  },
  {
   "cell_type": "code",
   "execution_count": 12,
   "outputs": [],
   "source": [
    "def loss(x,y):\n",
    "    y_pred = forward(x)\n",
    "    return (y_pred - y) * (y_pred - y)"
   ],
   "metadata": {
    "collapsed": false
   }
  },
  {
   "cell_type": "code",
   "execution_count": 15,
   "outputs": [
    {
     "name": "stdout",
     "output_type": "stream",
     "text": [
      "predict(Before training 4 4.0\n"
     ]
    }
   ],
   "source": [
    "print(\"predict(Before training\", 4 , round(forward(4).item(),2))"
   ],
   "metadata": {
    "collapsed": false
   }
  },
  {
   "cell_type": "code",
   "execution_count": 16,
   "outputs": [
    {
     "name": "stdout",
     "output_type": "stream",
     "text": [
      "\tgrad:  1.0 2.0 -4.0\n",
      "\tgrad:  2.0 4.0 -15.28\n",
      "\tgrad:  3.0 6.0 -24.78\n",
      "Epoch: 0 | Loss: 3.0\n",
      "\tgrad:  1.0 2.0 0.44\n",
      "\tgrad:  2.0 4.0 1.45\n",
      "\tgrad:  3.0 6.0 1.11\n",
      "Epoch: 1 | Loss: 0.0\n",
      "\tgrad:  1.0 2.0 -0.05\n",
      "\tgrad:  2.0 4.0 -0.18\n",
      "\tgrad:  3.0 6.0 -0.15\n",
      "Epoch: 2 | Loss: 0.0\n",
      "\tgrad:  1.0 2.0 0.01\n",
      "\tgrad:  2.0 4.0 0.02\n",
      "\tgrad:  3.0 6.0 0.02\n",
      "Epoch: 3 | Loss: 0.0\n",
      "\tgrad:  1.0 2.0 -0.0\n",
      "\tgrad:  2.0 4.0 -0.0\n",
      "\tgrad:  3.0 6.0 -0.0\n",
      "Epoch: 4 | Loss: 0.0\n",
      "\tgrad:  1.0 2.0 0.0\n",
      "\tgrad:  2.0 4.0 0.0\n",
      "\tgrad:  3.0 6.0 0.0\n",
      "Epoch: 5 | Loss: 0.0\n",
      "\tgrad:  1.0 2.0 -0.0\n",
      "\tgrad:  2.0 4.0 -0.0\n",
      "\tgrad:  3.0 6.0 -0.0\n",
      "Epoch: 6 | Loss: 0.0\n",
      "\tgrad:  1.0 2.0 0.0\n",
      "\tgrad:  2.0 4.0 0.0\n",
      "\tgrad:  3.0 6.0 0.0\n",
      "Epoch: 7 | Loss: 0.0\n",
      "\tgrad:  1.0 2.0 -0.0\n",
      "\tgrad:  2.0 4.0 -0.0\n",
      "\tgrad:  3.0 6.0 -0.0\n",
      "Epoch: 8 | Loss: 0.0\n",
      "\tgrad:  1.0 2.0 0.0\n",
      "\tgrad:  2.0 4.0 0.0\n",
      "\tgrad:  3.0 6.0 0.0\n",
      "Epoch: 9 | Loss: 0.0\n",
      "Prediction (after training) 4 5.656854152679443\n"
     ]
    }
   ],
   "source": [
    "for epoch in range(10):\n",
    "    for x_val, y_val in zip(x_data, y_data):\n",
    "        y_pred = forward(x_val) # 1) Forward pass\n",
    "        l = loss(y_pred, y_val) # 2) Compute loss\n",
    "        l.backward() # 3) Back propagation to update weights\n",
    "        print(\"\\tgrad: \", x_val, y_val, round(w.grad.item(),2))\n",
    "        w.data = w.data - 0.01 * w.grad.item()\n",
    "\n",
    "        # Manually zero the gradients after updating weights\n",
    "        w.grad.data.zero_()\n",
    "\n",
    "    print(f\"Epoch: {epoch} | Loss: {round(l.item(),2)}\")\n",
    "\n",
    "# After training\n",
    "print(\"Prediction (after training)\",  4, forward(4).item())"
   ],
   "metadata": {
    "collapsed": false
   }
  },
  {
   "cell_type": "code",
   "execution_count": null,
   "outputs": [],
   "source": [],
   "metadata": {
    "collapsed": false
   }
  }
 ],
 "metadata": {
  "kernelspec": {
   "display_name": "Python 3",
   "language": "python",
   "name": "python3"
  },
  "language_info": {
   "codemirror_mode": {
    "name": "ipython",
    "version": 2
   },
   "file_extension": ".py",
   "mimetype": "text/x-python",
   "name": "python",
   "nbconvert_exporter": "python",
   "pygments_lexer": "ipython2",
   "version": "2.7.6"
  }
 },
 "nbformat": 4,
 "nbformat_minor": 0
}
