{
 "cells": [
  {
   "cell_type": "code",
   "execution_count": 1,
   "metadata": {
    "collapsed": true
   },
   "outputs": [],
   "source": [
    "import torch\n",
    "import torch.nn as nn\n",
    "import torch.nn.functional as F\n",
    "import torch.optim as optim"
   ]
  },
  {
   "cell_type": "code",
   "execution_count": 2,
   "outputs": [],
   "source": [
    "x_train = torch.FloatTensor([[1],[2],[3]])\n",
    "y_train = torch.FloatTensor([[1],[2],[3]])"
   ],
   "metadata": {
    "collapsed": false
   }
  },
  {
   "cell_type": "code",
   "execution_count": 3,
   "outputs": [],
   "source": [
    "# W가 1일 때 정답 - cost = 0"
   ],
   "metadata": {
    "collapsed": false
   }
  },
  {
   "cell_type": "code",
   "execution_count": 16,
   "outputs": [
    {
     "name": "stdout",
     "output_type": "stream",
     "text": [
      "Epoch    0/100 W: 0.000, Cost: 4.666667, gradient: -14.000\n",
      "Epoch    1/100 W: 2.240, Cost: 7.175467, gradient: 17.360\n",
      "Epoch    2/100 W: -0.538, Cost: 11.032998, gradient: -21.526\n",
      "Epoch    3/100 W: 2.907, Cost: 16.964334, gradient: 26.693\n",
      "Epoch    4/100 W: -1.364, Cost: 26.084358, gradient: -33.099\n",
      "Epoch    5/100 W: 3.932, Cost: 40.107311, gradient: 41.043\n",
      "Epoch    6/100 W: -2.635, Cost: 61.668995, gradient: -50.893\n",
      "Epoch    7/100 W: 5.508, Cost: 94.822258, gradient: 63.107\n",
      "Epoch    8/100 W: -4.590, Cost: 145.798660, gradient: -78.253\n",
      "Epoch    9/100 W: 7.931, Cost: 224.180038, gradient: 97.034\n",
      "Epoch   10/100 W: -7.594, Cost: 344.699127, gradient: -120.322\n",
      "Epoch   11/100 W: 11.657, Cost: 530.009338, gradient: 149.199\n",
      "Epoch   12/100 W: -12.215, Cost: 814.942200, gradient: -185.007\n",
      "Epoch   13/100 W: 17.386, Cost: 1253.055054, gradient: 229.409\n",
      "Epoch   14/100 W: -19.319, Cost: 1926.696899, gradient: -284.467\n",
      "Epoch   15/100 W: 26.196, Cost: 2962.489502, gradient: 352.739\n",
      "Epoch   16/100 W: -30.243, Cost: 4555.123047, gradient: -437.396\n",
      "Epoch   17/100 W: 39.741, Cost: 7003.957031, gradient: 542.371\n",
      "Epoch   18/100 W: -47.039, Cost: 10769.283203, gradient: -672.540\n",
      "Epoch   19/100 W: 60.568, Cost: 16558.851562, gradient: 833.949\n",
      "Epoch   20/100 W: -72.864, Cost: 25460.884766, gradient: -1034.097\n",
      "Epoch   21/100 W: 92.591, Cost: 39148.636719, gradient: 1282.280\n",
      "Epoch   22/100 W: -112.573, Cost: 60194.937500, gradient: -1590.027\n",
      "Epoch   23/100 W: 141.831, Cost: 92555.718750, gradient: 1971.634\n",
      "Epoch   24/100 W: -173.630, Cost: 142313.671875, gradient: -2444.826\n",
      "Epoch   25/100 W: 217.542, Cost: 218821.453125, gradient: 3031.584\n",
      "Epoch   26/100 W: -267.512, Cost: 336459.875000, gradient: -3759.164\n",
      "Epoch   27/100 W: 333.955, Cost: 517340.656250, gradient: 4661.363\n",
      "Epoch   28/100 W: -411.864, Cost: 795463.000000, gradient: -5780.090\n",
      "Epoch   29/100 W: 512.951, Cost: 1223103.875000, gradient: 7167.312\n",
      "Epoch   30/100 W: -633.819, Cost: 1880644.125000, gradient: -8887.467\n",
      "Epoch   31/100 W: 788.176, Cost: 2891678.750000, gradient: 11020.459\n",
      "Epoch   32/100 W: -975.098, Cost: 4446246.000000, gradient: -13665.370\n",
      "Epoch   33/100 W: 1211.361, Cost: 6836548.000000, gradient: 16945.059\n",
      "Epoch   34/100 W: -1499.848, Cost: 10511875.000000, gradient: -21011.871\n",
      "Epoch   35/100 W: 1862.052, Cost: 16163059.000000, gradient: 26054.721\n",
      "Epoch   36/100 W: -2306.704, Cost: 24852320.000000, gradient: -32307.854\n",
      "Epoch   37/100 W: 2862.552, Cost: 38212916.000000, gradient: 40061.734\n",
      "Epoch   38/100 W: -3547.325, Cost: 58756180.000000, gradient: -49676.547\n",
      "Epoch   39/100 W: 4400.923, Cost: 90343496.000000, gradient: 61598.918\n",
      "Epoch   40/100 W: -5454.903, Cost: 138912112.000000, gradient: -76382.641\n",
      "Epoch   41/100 W: 6766.319, Cost: 213591184.000000, gradient: 94714.469\n",
      "Epoch   42/100 W: -8387.995, Cost: 328417760.000000, gradient: -117445.930\n",
      "Epoch   43/100 W: 10403.353, Cost: 504975072.000000, gradient: 145632.938\n",
      "Epoch   44/100 W: -12897.917, Cost: 776449600.000000, gradient: -180584.844\n",
      "Epoch   45/100 W: 15995.657, Cost: 1193868928.000000, gradient: 223925.219\n",
      "Epoch   46/100 W: -19832.379, Cost: 1835693568.000000, gradient: -277667.312\n",
      "Epoch   47/100 W: 24594.391, Cost: 2822562816.000000, gradient: 344307.469\n",
      "Epoch   48/100 W: -30494.805, Cost: 4339972608.000000, gradient: -426941.281\n",
      "Epoch   49/100 W: 37815.797, Cost: 6673141760.000000, gradient: 529407.188\n",
      "Epoch   50/100 W: -46889.352, Cost: 10260624384.000000, gradient: -656464.938\n",
      "Epoch   51/100 W: 58145.039, Cost: 15776738304.000000, gradient: 814016.562\n",
      "Epoch   52/100 W: -72097.609, Cost: 24258312192.000000, gradient: -1009380.562\n",
      "Epoch   53/100 W: 89403.281, Cost: 37299585024.000000, gradient: 1251631.875\n",
      "Epoch   54/100 W: -110857.812, Cost: 57351819264.000000, gradient: -1552023.375\n",
      "Epoch   55/100 W: 137465.922, Cost: 88184152064.000000, gradient: 1924508.875\n",
      "Epoch   56/100 W: -170455.484, Cost: 135591919616.000000, gradient: -2386390.750\n",
      "Epoch   57/100 W: 211367.016, Cost: 208486121472.000000, gradient: 2959124.500\n",
      "Epoch   58/100 W: -262092.891, Cost: 320568328192.000000, gradient: -3669314.500\n",
      "Epoch   59/100 W: 324997.438, Cost: 492905857024.000000, gradient: 4549950.000\n",
      "Epoch   60/100 W: -402994.562, Cost: 757892055040.000000, gradient: -5641938.000\n",
      "Epoch   61/100 W: 499715.500, Cost: 1165334806528.000000, gradient: 6996003.000\n",
      "Epoch   62/100 W: -619645.000, Cost: 1791818727424.000000, gradient: -8675044.000\n",
      "Epoch   63/100 W: 768362.000, Cost: 2755100147712.000000, gradient: 10757054.000\n",
      "Epoch   64/100 W: -952766.625, Cost: 4236242059264.000000, gradient: -13338747.000\n",
      "Epoch   65/100 W: 1181432.875, Cost: 6513645584384.000000, gradient: 16540046.000\n",
      "Epoch   66/100 W: -1464974.375, Cost: 10015379292160.000000, gradient: -20509656.000\n",
      "Epoch   67/100 W: 1816570.625, Cost: 15399651377152.000000, gradient: 25431976.000\n",
      "Epoch   68/100 W: -2252545.500, Cost: 23678507024384.000000, gradient: -31535650.000\n",
      "Epoch   69/100 W: 2793158.500, Cost: 36408068669440.000000, gradient: 39104208.000\n",
      "Epoch   70/100 W: -3463514.500, Cost: 55981056720896.000000, gradient: -48489216.000\n",
      "Epoch   71/100 W: 4294760.000, Cost: 86076454600704.000000, gradient: 60126628.000\n",
      "Epoch   72/100 W: -5325500.000, Cost: 132351153668096.000000, gradient: -74557008.000\n",
      "Epoch   73/100 W: 6603621.000, Cost: 203503066677248.000000, gradient: 92450680.000\n",
      "Epoch   74/100 W: -8188487.000, Cost: 312906252025856.000000, gradient: -114638832.000\n",
      "Epoch   75/100 W: 10153725.000, Cost: 481124518199296.000000, gradient: 142152144.000\n",
      "Epoch   76/100 W: -12590617.000, Cost: 739777179549696.000000, gradient: -176268656.000\n",
      "Epoch   77/100 W: 15612367.000, Cost: 1137481151938560.000000, gradient: 218573120.000\n",
      "Epoch   78/100 W: -19359332.000, Cost: 1748990810914816.000000, gradient: -271030656.000\n",
      "Epoch   79/100 W: 24005572.000, Cost: 2689248675233792.000000, gradient: 336078016.000\n",
      "Epoch   80/100 W: -29766908.000, Cost: 4134987548852224.000000, gradient: -416736704.000\n",
      "Epoch   81/100 W: 36910964.000, Cost: 6357956589256704.000000, gradient: 516753504.000\n",
      "Epoch   82/100 W: -45769596.000, Cost: 9775994105757696.000000, gradient: -640774336.000\n",
      "Epoch   83/100 W: 56754292.000, Cost: 15031565197246464.000000, gradient: 794560128.000\n",
      "Epoch   84/100 W: -70375328.000, Cost: 23112537574735872.000000, gradient: -985254528.000\n",
      "Epoch   85/100 W: 87265392.000, Cost: 35537824274972672.000000, gradient: 1221715456.000\n",
      "Epoch   86/100 W: -108209072.000, Cost: 54642944761659392.000000, gradient: -1514926976.000\n",
      "Epoch   87/100 W: 134179232.000, Cost: 84018974878072832.000000, gradient: 1878509184.000\n",
      "Epoch   88/100 W: -166382240.000, Cost: 129187565382139904.000000, gradient: -2329351168.000\n",
      "Epoch   89/100 W: 206313952.000, Cost: 198638732746686464.000000, gradient: 2888395264.000\n",
      "Epoch   90/100 W: -255829280.000, Cost: 305426909808820224.000000, gradient: -3581609984.000\n",
      "Epoch   91/100 W: 317228320.000, Cost: 469624471607574528.000000, gradient: 4441196544.000\n",
      "Epoch   92/100 W: -393363104.000, Cost: 722094572095668224.000000, gradient: -5507083264.000\n",
      "Epoch   93/100 W: 487770208.000, Cost: 1110292270566866944.000000, gradient: 6828783104.000\n",
      "Epoch   94/100 W: -604835072.000, Cost: 1707185453607682048.000000, gradient: -8467690496.000\n",
      "Epoch   95/100 W: 749995392.000, Cost: 2624967463082655744.000000, gradient: 10499935232.000\n",
      "Epoch   96/100 W: -929994240.000, Cost: 4036149955402924032.000000, gradient: -13019919360.000\n",
      "Epoch   97/100 W: 1153192832.000, Cost: 6205983926016540672.000000, gradient: 16144699392.000\n",
      "Epoch   98/100 W: -1429959040.000, Cost: 9542319469351665664.000000, gradient: -20019425280.000\n",
      "Epoch   99/100 W: 1773149056.000, Cost: 14672269089624293376.000000, gradient: 24824086528.000\n",
      "Epoch  100/100 W: -2198704640.000, Cost: 22560076446847467520.000000, gradient: -30781863936.000\n"
     ]
    }
   ],
   "source": [
    "W = torch.zeros(1)\n",
    "lr = 0.16\n",
    "\n",
    "nb_epochs = 100\n",
    "for epoch in range(nb_epochs+1):\n",
    "    hypothesis = x_train * W\n",
    "    cost = torch.mean((hypothesis - y_train) ** 2)\n",
    "    gradient = torch.sum((W * x_train - y_train) * x_train)\n",
    "    print('Epoch {:4d}/{} W: {:.3f}, Cost: {:.6f}, gradient: {:.3f}'.format(\n",
    "        epoch, nb_epochs, W.item(), cost.item(), gradient.item()\n",
    "    ))\n",
    "\n",
    "    W -= lr * gradient"
   ],
   "metadata": {
    "collapsed": false
   }
  },
  {
   "cell_type": "code",
   "execution_count": null,
   "outputs": [],
   "source": [],
   "metadata": {
    "collapsed": false
   }
  }
 ],
 "metadata": {
  "kernelspec": {
   "display_name": "Python 3",
   "language": "python",
   "name": "python3"
  },
  "language_info": {
   "codemirror_mode": {
    "name": "ipython",
    "version": 2
   },
   "file_extension": ".py",
   "mimetype": "text/x-python",
   "name": "python",
   "nbconvert_exporter": "python",
   "pygments_lexer": "ipython2",
   "version": "2.7.6"
  }
 },
 "nbformat": 4,
 "nbformat_minor": 0
}
